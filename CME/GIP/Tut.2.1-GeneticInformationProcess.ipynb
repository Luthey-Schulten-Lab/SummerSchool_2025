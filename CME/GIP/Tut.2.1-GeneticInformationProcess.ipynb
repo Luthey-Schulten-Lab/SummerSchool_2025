{
 "cells": [
  {
   "cell_type": "markdown",
   "metadata": {},
   "source": [
    "# Tutorial 1.2 - Stochastic Genetic Information Process\n",
    "\n",
    "Here we examine a CME model of stochastic Genetic Information Process.\n",
    "\n",
    "In this model, we include the transcription and translation of gene and mRNA together with degradation of both mRNA and protein.\n",
    "\n",
    "The model presented here can be found in the classic article: [Analytical distributions for stochastic gene expression](https://www.pnas.org/doi/full/10.1073/pnas.0803850105).\n"
   ]
  },
  {
   "cell_type": "code",
   "execution_count": 2,
   "metadata": {},
   "outputs": [
    {
     "ename": "ModuleNotFoundError",
     "evalue": "No module named 'jLM.CME'",
     "output_type": "error",
     "traceback": [
      "\u001b[0;31m---------------------------------------------------------------------------\u001b[0m",
      "\u001b[0;31mModuleNotFoundError\u001b[0m                       Traceback (most recent call last)",
      "\u001b[0;32m/tmp/ipykernel_1994160/1055313721.py\u001b[0m in \u001b[0;36m<module>\u001b[0;34m\u001b[0m\n\u001b[1;32m      4\u001b[0m \u001b[0;34m\u001b[0m\u001b[0m\n\u001b[1;32m      5\u001b[0m \u001b[0;31m# Import jLM Libraries\u001b[0m\u001b[0;34m\u001b[0m\u001b[0;34m\u001b[0m\u001b[0;34m\u001b[0m\u001b[0m\n\u001b[0;32m----> 6\u001b[0;31m \u001b[0;32mimport\u001b[0m \u001b[0mjLM\u001b[0m\u001b[0;34m.\u001b[0m\u001b[0mCME\u001b[0m \u001b[0;32mas\u001b[0m \u001b[0mCME\u001b[0m\u001b[0;34m\u001b[0m\u001b[0;34m\u001b[0m\u001b[0m\n\u001b[0m\u001b[1;32m      7\u001b[0m \u001b[0;32mimport\u001b[0m \u001b[0mjLM\u001b[0m\u001b[0;34m.\u001b[0m\u001b[0munits\u001b[0m \u001b[0;32mas\u001b[0m \u001b[0munits\u001b[0m\u001b[0;34m\u001b[0m\u001b[0;34m\u001b[0m\u001b[0m\n\u001b[1;32m      8\u001b[0m \u001b[0;32mimport\u001b[0m \u001b[0mjLM\u001b[0m\u001b[0;34m.\u001b[0m\u001b[0mCMEPostProcessing\u001b[0m \u001b[0;32mas\u001b[0m \u001b[0mPostProcessing\u001b[0m\u001b[0;34m\u001b[0m\u001b[0;34m\u001b[0m\u001b[0m\n",
      "\u001b[0;31mModuleNotFoundError\u001b[0m: No module named 'jLM.CME'"
     ]
    }
   ],
   "source": [
    "# Import Standard Python Libraries\n",
    "import os\n",
    "import numpy as np\n",
    "\n",
    "# Import jLM Libraries\n",
    "import jLM.CME as CME\n",
    "import jLM.units as units\n",
    "import jLM.CMEPostProcessing as PostProcessing\n",
    "\n",
    "# Enable plotting inline in the Jupyter notebook\n",
    "%matplotlib inline"
   ]
  },
  {
   "cell_type": "code",
   "execution_count": 3,
   "metadata": {},
   "outputs": [],
   "source": [
    "# Import Standard Python Libraries\n",
    "import os\n",
    "import numpy as np\n",
    "import matplotlib.pyplot as plt\n",
    "\n",
    "# Import pyLM Libraries\n",
    "from pyLM import *\n",
    "from pyLM.units import *\n",
    "from pySTDLM import *\n",
    "from pySTDLM.PostProcessing import *\n",
    "\n",
    "# Enable plotting inline in the Jupyter notebook\n",
    "%matplotlib inline"
   ]
  },
  {
   "cell_type": "markdown",
   "metadata": {},
   "source": [
    "## Constants\n",
    "\n",
    "Rates of reactions come from the [Cell, 2022](https://www.cell.com/cell/fulltext/S0092-8674(21)01488-4?_returnURL=https%3A%2F%2Flinkinghub.elsevier.com%2Fretrieve%2Fpii%2FS0092867421014884%3Fshowall%3Dtrue) paper's Whole Cell Model of DnaA coding gene (G_0001) at initial conditions.\n",
    "\n",
    "Degradation rate of protein is calculated based on 25 hours' half life in [Maier et al, 2011](https://www.embopress.org/doi/full/10.1038/msb.2011.38)."
   ]
  },
  {
   "cell_type": "code",
   "execution_count": 4,
   "metadata": {},
   "outputs": [],
   "source": [
    "# Constants\n",
    "k_transcription  = 6.41e-4       # Transcription, s^-1\n",
    "k_degra_mRNA = 2.59e-3     # degradation of mRNA, s^-1\n",
    "k_translation = 7.2e-2        # translation, s^-1\n",
    "k_degra_ptn = 7.70e-6      # degradation of protein, s^-1"
   ]
  },
  {
   "cell_type": "markdown",
   "metadata": {},
   "source": [
    "## Define CME simulation"
   ]
  },
  {
   "cell_type": "markdown",
   "metadata": {},
   "source": [
    "We begin by creating a [CMESimulation](https://luthey-schulten.chemistry.illinois.edu/software/LM2.4/_autosummary/pyLM.CME.html#module-pyLM.CME) \"object\" that we call ```sim```. This object will include the definition of the whole stochastic simulation."
   ]
  },
  {
   "cell_type": "code",
   "execution_count": 5,
   "metadata": {},
   "outputs": [],
   "source": [
    "# Create our CME simulation object\n",
    "sim = CME.CMESimulation(name='Gene Expression')"
   ]
  },
  {
   "cell_type": "markdown",
   "metadata": {},
   "source": [
    "Next we define the chemical species with simulation. First. we specify the names of the chemical species.  Then we register these species with the simulation.  The [```defineSpecies()```](https://luthey-schulten.chemistry.illinois.edu/software/LM2.4/_autosummary/pyLM.CME.html#module-pyLM.CME) function can be called multiple times and will add any new names to the list of species."
   ]
  },
  {
   "cell_type": "code",
   "execution_count": 6,
   "metadata": {},
   "outputs": [],
   "source": [
    "# Define our chemical species\n",
    "species = ['gene', 'mRNA', 'protein']\n",
    "sim.defineSpecies(species)"
   ]
  },
  {
   "cell_type": "markdown",
   "metadata": {},
   "source": [
    "Here we add reactions to the simulation. We use the [```addReaction()```](https://luthey-schulten.chemistry.illinois.edu/software/LM2.4/_autosummary/pyLM.CME.html#module-pyLM.CME) function that is a member of the ```CMESimulation``` object. We add a bimolecular association reaction and a unimolecular dissociation reaction. When more than one reactant is involved, the list of reactant names should be passed as a tuple as can be seen in the reactant of the association reaction. The rates in this command must be in units of molecules and seconds, for instance units of ```/molecule/sec``` for the association reaction."
   ]
  },
  {
   "cell_type": "code",
   "execution_count": 7,
   "metadata": {},
   "outputs": [],
   "source": [
    "# Add reactions to the simulation\n",
    "\n",
    "sim.addReaction(reactant='gene', product=('gene','mRNA'), rate=k_transcription)\n",
    "sim.addReaction(reactant='mRNA', product='', rate=k_degra_mRNA)\n",
    "sim.addReaction(reactant='mRNA', product=('mRNA','protein'), rate=k_translation)\n",
    "sim.addReaction(reactant='protein', product='', rate=k_degra_ptn)\n"
   ]
  },
  {
   "cell_type": "markdown",
   "metadata": {},
   "source": [
    "Next, we add the initial particle counts to the simulation using the [```addParticles()```](https://luthey-schulten.chemistry.illinois.edu/software/LM2.4/_autosummary/pyLM.CME.html#module-pyLM.CME) function."
   ]
  },
  {
   "cell_type": "code",
   "execution_count": 8,
   "metadata": {},
   "outputs": [],
   "source": [
    "# Set our initial species counts\n",
    "# Initial count of protein as 148 from proteomics\n",
    "sim.addParticles(species='gene', count=1)\n",
    "sim.addParticles(species='mRNA', count=1)\n",
    "sim.addParticles(species='protein', count=148)"
   ]
  },
  {
   "cell_type": "markdown",
   "metadata": {},
   "source": [
    "Finally, we define the simulation execution parameters. We have the simulation run for 6300 seconds of real time to cover the entire cell cyle.\n",
    "\n",
    "The traces are recorded per 1 second.\n",
    "\n",
    "Then we name the simulation output file and save the simulation definition to it."
   ]
  },
  {
   "cell_type": "code",
   "execution_count": 9,
   "metadata": {},
   "outputs": [],
   "source": [
    "# Simulation time is 6300 (entire cell life cycle of Minimal Cell).\n",
    "writeInterval = 1\n",
    "simtime = 6300\n",
    "\n",
    "sim.setWriteInterval(writeInterval)\n",
    "sim.setSimulationTime(simtime)\n",
    "\n",
    "filename = \"./T2.1-GeneticInformationProcess.lm\"\n",
    "\n",
    "os.system(\"rm -rf %s\"%(filename)) # Remove previous LM file \n",
    "\n",
    "sim.save(filename)"
   ]
  },
  {
   "cell_type": "code",
   "execution_count": 10,
   "metadata": {
    "scrolled": true
   },
   "outputs": [
    {
     "data": {
      "text/html": [
       "<h1> CME Simulation: Gene Expression</h1><h2> Simulation Parameters </h2>writeInterval: 1</br>maxTime: 6300</br><h2> Species </h2><table><tr><td style=\"text-align:left\"><b>Specie</b></td><td style=\"text-align:center\"><b>Particle ID</b></td><td style=\"text-align:center\"><b>Initial Count</b></td></tr><tr><td style=\"text-align:left\">gene</td><td style=\"text-align:center\">1</td><td style=\"text-align:center\">1</td></tr><tr><td style=\"text-align:left\">mRNA</td><td style=\"text-align:center\">2</td><td style=\"text-align:center\">1</td></tr><tr><td style=\"text-align:left\">protein</td><td style=\"text-align:center\">3</td><td style=\"text-align:center\">148</td></tr></table><h2> Reaction Model </h2><table><tr><td style=\"text-align:left\"><b>Reaction</b></td><td style=\"text-align:center\"><b>Rate</b></td><td style=\"text-align:center\"><b>Units</b></td></tr><tr><td style=\"text-align:left\">gene ⟶ gene + mRNA</td><td style=\"text-align:center\">0.000641</td><td style=\"text-align:center\">s⁻¹</td></tr><tr><td style=\"text-align:left\">mRNA ⟶ ∅</td><td style=\"text-align:center\">0.00259</td><td style=\"text-align:center\">s⁻¹</td></tr><tr><td style=\"text-align:left\">mRNA ⟶ mRNA + protein</td><td style=\"text-align:center\">0.072</td><td style=\"text-align:center\">s⁻¹</td></tr><tr><td style=\"text-align:left\">protein ⟶ ∅</td><td style=\"text-align:center\">7.7e-06</td><td style=\"text-align:center\">s⁻¹</td></tr></table>"
      ],
      "text/plain": [
       "<pyLM.CME.CMESimulation at 0x77bf444cd7f0>"
      ]
     },
     "execution_count": 10,
     "metadata": {},
     "output_type": "execute_result"
    }
   ],
   "source": [
    "# Print out the information of the system\n",
    "sim"
   ]
  },
  {
   "cell_type": "markdown",
   "metadata": {},
   "source": [
    "## Run Simulation\n",
    "\n",
    "Change `reps` to simulate more cell replicates"
   ]
  },
  {
   "cell_type": "code",
   "execution_count": 11,
   "metadata": {
    "scrolled": true
   },
   "outputs": [
    {
     "name": "stderr",
     "output_type": "stream",
     "text": [
      "  0%|          | 0/100 [00:00<?, ?it/s]"
     ]
    },
    {
     "name": "stdout",
     "output_type": "stream",
     "text": [
      "2025-07-07 15:32:30) Info: Using 56 processor(s) and 1 CUDA device(s) per process.\n",
      "2025-07-07 15:32:30) Info: Assigning 1.00 processor(s) and 1.00 CUDA device(s) per replicate.\n",
      "2025-07-07 15:32:31) Info: Data output thread running.\n",
      "2025-07-07 15:32:31) Info: Seeding xorwow rng with top word 1 and bottom word 66517733\n",
      "2025-07-07 15:32:31) Info: Data output thread finished.\n",
      "2025-07-07 15:32:31) Info: Simulation file closed.\n",
      "2025-07-07 15:32:31) Info: Using 56 processor(s) and 1 CUDA device(s) per process.\n",
      "2025-07-07 15:32:31) Info: Assigning 1.00 processor(s) and 1.00 CUDA device(s) per replicate.\n",
      "2025-07-07 15:32:31) Info: Data output thread running.\n",
      "2025-07-07 15:32:31) Info: Seeding xorwow rng with top word 2 and bottom word 98633579\n",
      "2025-07-07 15:32:31) Info: Data output thread finished.\n",
      "2025-07-07 15:32:31) Info: Simulation file closed.\n"
     ]
    },
    {
     "name": "stderr",
     "output_type": "stream",
     "text": [
      "  2%|2         | 2/100 [00:00<00:05, 16.82it/s]"
     ]
    },
    {
     "name": "stdout",
     "output_type": "stream",
     "text": [
      "2025-07-07 15:32:31) Info: Using 56 processor(s) and 1 CUDA device(s) per process.\n",
      "2025-07-07 15:32:31) Info: Assigning 1.00 processor(s) and 1.00 CUDA device(s) per replicate.\n",
      "2025-07-07 15:32:31) Info: Data output thread running.\n",
      "2025-07-07 15:32:31) Info: Seeding xorwow rng with top word 3 and bottom word 126254691\n",
      "2025-07-07 15:32:31) Info: Data output thread finished.\n",
      "2025-07-07 15:32:31) Info: Simulation file closed.\n",
      "2025-07-07 15:32:31) Info: Using 56 processor(s) and 1 CUDA device(s) per process.\n",
      "2025-07-07 15:32:31) Info: Assigning 1.00 processor(s) and 1.00 CUDA device(s) per replicate.\n",
      "2025-07-07 15:32:31) Info: Data output thread running.\n",
      "2025-07-07 15:32:31) Info: Seeding xorwow rng with top word 4 and bottom word 152051375\n",
      "2025-07-07 15:32:31) Info: Data output thread finished.\n",
      "2025-07-07 15:32:31) Info: Simulation file closed.\n",
      "2025-07-07 15:32:31) Info: Using 56 processor(s) and 1 CUDA device(s) per process.\n",
      "2025-07-07 15:32:31) Info: Assigning 1.00 processor(s) and 1.00 CUDA device(s) per replicate.\n",
      "2025-07-07 15:32:31) Info: Data output thread running.\n",
      "2025-07-07 15:32:31) Info: Seeding xorwow rng with top word 5 and bottom word 177608800\n",
      "2025-07-07 15:32:31) Info: Data output thread finished.\n",
      "2025-07-07 15:32:31) Info: Simulation file closed.\n",
      "2025-07-07 15:32:31) Info: Using 56 processor(s) and 1 CUDA device(s) per process.\n",
      "2025-07-07 15:32:31) Info: Assigning 1.00 processor(s) and 1.00 CUDA device(s) per replicate.\n",
      "2025-07-07 15:32:31) Info: Data output thread running.\n",
      "2025-07-07 15:32:31) Info: Seeding xorwow rng with top word 6 and bottom word 203392149\n",
      "2025-07-07 15:32:31) Info: Data output thread finished.\n",
      "2025-07-07 15:32:31) Info: Simulation file closed.\n"
     ]
    },
    {
     "name": "stderr",
     "output_type": "stream",
     "text": [
      "  6%|6         | 6/100 [00:00<00:03, 28.81it/s]"
     ]
    },
    {
     "name": "stdout",
     "output_type": "stream",
     "text": [
      "2025-07-07 15:32:31) Info: Using 56 processor(s) and 1 CUDA device(s) per process.\n",
      "2025-07-07 15:32:31) Info: Assigning 1.00 processor(s) and 1.00 CUDA device(s) per replicate.\n",
      "2025-07-07 15:32:31) Info: Data output thread running.\n",
      "2025-07-07 15:32:31) Info: Seeding xorwow rng with top word 7 and bottom word 231775815\n",
      "2025-07-07 15:32:31) Info: Data output thread finished.\n",
      "2025-07-07 15:32:31) Info: Simulation file closed.\n",
      "2025-07-07 15:32:31) Info: Using 56 processor(s) and 1 CUDA device(s) per process.\n",
      "2025-07-07 15:32:31) Info: Assigning 1.00 processor(s) and 1.00 CUDA device(s) per replicate.\n",
      "2025-07-07 15:32:31) Info: Data output thread running.\n",
      "2025-07-07 15:32:31) Info: Seeding xorwow rng with top word 8 and bottom word 258133787\n",
      "2025-07-07 15:32:31) Info: Data output thread finished.\n",
      "2025-07-07 15:32:31) Info: Simulation file closed.\n",
      "2025-07-07 15:32:31) Info: Using 56 processor(s) and 1 CUDA device(s) per process.\n",
      "2025-07-07 15:32:31) Info: Assigning 1.00 processor(s) and 1.00 CUDA device(s) per replicate.\n",
      "2025-07-07 15:32:31) Info: Data output thread running.\n",
      "2025-07-07 15:32:31) Info: Seeding xorwow rng with top word 9 and bottom word 284173157\n",
      "2025-07-07 15:32:31) Info: Data output thread finished.\n",
      "2025-07-07 15:32:31) Info: Simulation file closed.\n",
      "2025-07-07 15:32:31) Info: Using 56 processor(s) and 1 CUDA device(s) per process.\n",
      "2025-07-07 15:32:31) Info: Assigning 1.00 processor(s) and 1.00 CUDA device(s) per replicate.\n",
      "2025-07-07 15:32:31) Info: Data output thread running.\n",
      "2025-07-07 15:32:31) Info: Seeding xorwow rng with top word 10 and bottom word 309958515\n",
      "2025-07-07 15:32:31) Info: Data output thread finished.\n",
      "2025-07-07 15:32:31) Info: Simulation file closed.\n"
     ]
    },
    {
     "name": "stderr",
     "output_type": "stream",
     "text": [
      " 10%|#         | 10/100 [00:00<00:02, 32.62it/s]"
     ]
    },
    {
     "name": "stdout",
     "output_type": "stream",
     "text": [
      "2025-07-07 15:32:31) Info: Using 56 processor(s) and 1 CUDA device(s) per process.\n",
      "2025-07-07 15:32:31) Info: Assigning 1.00 processor(s) and 1.00 CUDA device(s) per replicate.\n",
      "2025-07-07 15:32:31) Info: Data output thread running.\n",
      "2025-07-07 15:32:31) Info: Seeding xorwow rng with top word 11 and bottom word 337574630\n",
      "2025-07-07 15:32:31) Info: Data output thread finished.\n",
      "2025-07-07 15:32:31) Info: Simulation file closed.\n",
      "2025-07-07 15:32:31) Info: Using 56 processor(s) and 1 CUDA device(s) per process.\n",
      "2025-07-07 15:32:31) Info: Assigning 1.00 processor(s) and 1.00 CUDA device(s) per replicate.\n",
      "2025-07-07 15:32:31) Info: Data output thread running.\n",
      "2025-07-07 15:32:31) Info: Seeding xorwow rng with top word 12 and bottom word 363856198\n",
      "2025-07-07 15:32:31) Info: Data output thread finished.\n",
      "2025-07-07 15:32:31) Info: Simulation file closed.\n",
      "2025-07-07 15:32:31) Info: Using 56 processor(s) and 1 CUDA device(s) per process.\n",
      "2025-07-07 15:32:31) Info: Assigning 1.00 processor(s) and 1.00 CUDA device(s) per replicate.\n",
      "2025-07-07 15:32:31) Info: Data output thread running.\n",
      "2025-07-07 15:32:31) Info: Seeding xorwow rng with top word 13 and bottom word 389428236\n",
      "2025-07-07 15:32:31) Info: Data output thread finished.\n",
      "2025-07-07 15:32:31) Info: Simulation file closed.\n",
      "2025-07-07 15:32:31) Info: Using 56 processor(s) and 1 CUDA device(s) per process.\n",
      "2025-07-07 15:32:31) Info: Assigning 1.00 processor(s) and 1.00 CUDA device(s) per replicate.\n",
      "2025-07-07 15:32:31) Info: Data output thread running.\n",
      "2025-07-07 15:32:31) Info: Seeding xorwow rng with top word 14 and bottom word 414939928\n",
      "2025-07-07 15:32:31) Info: Data output thread finished.\n",
      "2025-07-07 15:32:31) Info: Simulation file closed.\n"
     ]
    },
    {
     "name": "stderr",
     "output_type": "stream",
     "text": [
      " 14%|#4        | 14/100 [00:00<00:02, 34.91it/s]"
     ]
    },
    {
     "name": "stdout",
     "output_type": "stream",
     "text": [
      "2025-07-07 15:32:31) Info: Using 56 processor(s) and 1 CUDA device(s) per process.\n",
      "2025-07-07 15:32:31) Info: Assigning 1.00 processor(s) and 1.00 CUDA device(s) per replicate.\n",
      "2025-07-07 15:32:31) Info: Data output thread running.\n",
      "2025-07-07 15:32:31) Info: Seeding xorwow rng with top word 15 and bottom word 441415616\n",
      "2025-07-07 15:32:31) Info: Data output thread finished.\n",
      "2025-07-07 15:32:31) Info: Simulation file closed.\n",
      "2025-07-07 15:32:31) Info: Using 56 processor(s) and 1 CUDA device(s) per process.\n",
      "2025-07-07 15:32:31) Info: Assigning 1.00 processor(s) and 1.00 CUDA device(s) per replicate.\n",
      "2025-07-07 15:32:31) Info: Data output thread running.\n",
      "2025-07-07 15:32:31) Info: Seeding xorwow rng with top word 16 and bottom word 468786844\n",
      "2025-07-07 15:32:31) Info: Data output thread finished.\n",
      "2025-07-07 15:32:31) Info: Simulation file closed.\n",
      "2025-07-07 15:32:31) Info: Using 56 processor(s) and 1 CUDA device(s) per process.\n",
      "2025-07-07 15:32:31) Info: Assigning 1.00 processor(s) and 1.00 CUDA device(s) per replicate.\n",
      "2025-07-07 15:32:31) Info: Data output thread running.\n",
      "2025-07-07 15:32:31) Info: Seeding xorwow rng with top word 17 and bottom word 495712645\n",
      "2025-07-07 15:32:31) Info: Data output thread finished.\n",
      "2025-07-07 15:32:31) Info: Simulation file closed.\n",
      "2025-07-07 15:32:31) Info: Using 56 processor(s) and 1 CUDA device(s) per process.\n",
      "2025-07-07 15:32:31) Info: Assigning 1.00 processor(s) and 1.00 CUDA device(s) per replicate.\n",
      "2025-07-07 15:32:31) Info: Data output thread running.\n",
      "2025-07-07 15:32:31) Info: Seeding xorwow rng with top word 18 and bottom word 521167371\n",
      "2025-07-07 15:32:31) Info: Data output thread finished.\n",
      "2025-07-07 15:32:31) Info: Simulation file closed.\n"
     ]
    },
    {
     "name": "stderr",
     "output_type": "stream",
     "text": [
      " 18%|#8        | 18/100 [00:00<00:02, 35.92it/s]"
     ]
    },
    {
     "name": "stdout",
     "output_type": "stream",
     "text": [
      "2025-07-07 15:32:31) Info: Using 56 processor(s) and 1 CUDA device(s) per process.\n",
      "2025-07-07 15:32:31) Info: Assigning 1.00 processor(s) and 1.00 CUDA device(s) per replicate.\n",
      "2025-07-07 15:32:31) Info: Data output thread running.\n",
      "2025-07-07 15:32:31) Info: Seeding xorwow rng with top word 19 and bottom word 546803868\n",
      "2025-07-07 15:32:31) Info: Data output thread finished.\n",
      "2025-07-07 15:32:31) Info: Simulation file closed.\n",
      "2025-07-07 15:32:31) Info: Using 56 processor(s) and 1 CUDA device(s) per process.\n",
      "2025-07-07 15:32:31) Info: Assigning 1.00 processor(s) and 1.00 CUDA device(s) per replicate.\n",
      "2025-07-07 15:32:31) Info: Data output thread running.\n",
      "2025-07-07 15:32:31) Info: Seeding xorwow rng with top word 20 and bottom word 572340896\n",
      "2025-07-07 15:32:31) Info: Data output thread finished.\n",
      "2025-07-07 15:32:31) Info: Simulation file closed.\n",
      "2025-07-07 15:32:31) Info: Using 56 processor(s) and 1 CUDA device(s) per process.\n",
      "2025-07-07 15:32:31) Info: Assigning 1.00 processor(s) and 1.00 CUDA device(s) per replicate.\n",
      "2025-07-07 15:32:31) Info: Data output thread running.\n",
      "2025-07-07 15:32:31) Info: Seeding xorwow rng with top word 21 and bottom word 598790537\n",
      "2025-07-07 15:32:31) Info: Data output thread finished.\n",
      "2025-07-07 15:32:31) Info: Simulation file closed.\n",
      "2025-07-07 15:32:31) Info: Using 56 processor(s) and 1 CUDA device(s) per process.\n",
      "2025-07-07 15:32:31) Info: Assigning 1.00 processor(s) and 1.00 CUDA device(s) per replicate.\n",
      "2025-07-07 15:32:31) Info: Data output thread running.\n",
      "2025-07-07 15:32:31) Info: Seeding xorwow rng with top word 22 and bottom word 625268270\n",
      "2025-07-07 15:32:31) Info: Data output thread finished.\n",
      "2025-07-07 15:32:31) Info: Simulation file closed.\n"
     ]
    },
    {
     "name": "stderr",
     "output_type": "stream",
     "text": [
      " 22%|##2       | 22/100 [00:00<00:02, 36.76it/s]"
     ]
    },
    {
     "name": "stdout",
     "output_type": "stream",
     "text": [
      "2025-07-07 15:32:31) Info: Using 56 processor(s) and 1 CUDA device(s) per process.\n",
      "2025-07-07 15:32:31) Info: Assigning 1.00 processor(s) and 1.00 CUDA device(s) per replicate.\n",
      "2025-07-07 15:32:31) Info: Data output thread running.\n",
      "2025-07-07 15:32:31) Info: Seeding xorwow rng with top word 23 and bottom word 651527037\n",
      "2025-07-07 15:32:31) Info: Data output thread finished.\n",
      "2025-07-07 15:32:31) Info: Simulation file closed.\n",
      "2025-07-07 15:32:31) Info: Using 56 processor(s) and 1 CUDA device(s) per process.\n",
      "2025-07-07 15:32:31) Info: Assigning 1.00 processor(s) and 1.00 CUDA device(s) per replicate.\n",
      "2025-07-07 15:32:31) Info: Data output thread running.\n",
      "2025-07-07 15:32:31) Info: Seeding xorwow rng with top word 24 and bottom word 678439402\n",
      "2025-07-07 15:32:31) Info: Data output thread finished.\n",
      "2025-07-07 15:32:31) Info: Simulation file closed.\n",
      "2025-07-07 15:32:31) Info: Using 56 processor(s) and 1 CUDA device(s) per process.\n",
      "2025-07-07 15:32:31) Info: Assigning 1.00 processor(s) and 1.00 CUDA device(s) per replicate.\n",
      "2025-07-07 15:32:31) Info: Data output thread running.\n",
      "2025-07-07 15:32:31) Info: Seeding xorwow rng with top word 25 and bottom word 706617868\n",
      "2025-07-07 15:32:31) Info: Data output thread finished.\n",
      "2025-07-07 15:32:31) Info: Simulation file closed.\n",
      "2025-07-07 15:32:31) Info: Using 56 processor(s) and 1 CUDA device(s) per process.\n",
      "2025-07-07 15:32:31) Info: Assigning 1.00 processor(s) and 1.00 CUDA device(s) per replicate.\n",
      "2025-07-07 15:32:31) Info: Data output thread running.\n",
      "2025-07-07 15:32:31) Info: Seeding xorwow rng with top word 26 and bottom word 734149959\n",
      "2025-07-07 15:32:31) Info: Data output thread finished.\n",
      "2025-07-07 15:32:31) Info: Simulation file closed.\n"
     ]
    },
    {
     "name": "stderr",
     "output_type": "stream",
     "text": [
      " 26%|##6       | 26/100 [00:00<00:02, 36.57it/s]"
     ]
    },
    {
     "name": "stdout",
     "output_type": "stream",
     "text": [
      "2025-07-07 15:32:31) Info: Using 56 processor(s) and 1 CUDA device(s) per process.\n",
      "2025-07-07 15:32:31) Info: Assigning 1.00 processor(s) and 1.00 CUDA device(s) per replicate.\n",
      "2025-07-07 15:32:31) Info: Data output thread running.\n",
      "2025-07-07 15:32:31) Info: Seeding xorwow rng with top word 27 and bottom word 761602016\n",
      "2025-07-07 15:32:31) Info: Data output thread finished.\n",
      "2025-07-07 15:32:31) Info: Simulation file closed.\n",
      "2025-07-07 15:32:31) Info: Using 56 processor(s) and 1 CUDA device(s) per process.\n",
      "2025-07-07 15:32:31) Info: Assigning 1.00 processor(s) and 1.00 CUDA device(s) per replicate.\n",
      "2025-07-07 15:32:31) Info: Data output thread running.\n",
      "2025-07-07 15:32:31) Info: Seeding xorwow rng with top word 28 and bottom word 788759553\n",
      "2025-07-07 15:32:31) Info: Data output thread finished.\n",
      "2025-07-07 15:32:31) Info: Simulation file closed.\n",
      "2025-07-07 15:32:31) Info: Using 56 processor(s) and 1 CUDA device(s) per process.\n",
      "2025-07-07 15:32:31) Info: Assigning 1.00 processor(s) and 1.00 CUDA device(s) per replicate.\n",
      "2025-07-07 15:32:31) Info: Data output thread running.\n",
      "2025-07-07 15:32:31) Info: Seeding xorwow rng with top word 29 and bottom word 817109718\n",
      "2025-07-07 15:32:31) Info: Data output thread finished.\n",
      "2025-07-07 15:32:31) Info: Simulation file closed.\n",
      "2025-07-07 15:32:31) Info: Using 56 processor(s) and 1 CUDA device(s) per process.\n",
      "2025-07-07 15:32:31) Info: Assigning 1.00 processor(s) and 1.00 CUDA device(s) per replicate.\n",
      "2025-07-07 15:32:31) Info: Data output thread running.\n",
      "2025-07-07 15:32:31) Info: Seeding xorwow rng with top word 30 and bottom word 844107979\n",
      "2025-07-07 15:32:31) Info: Data output thread finished.\n",
      "2025-07-07 15:32:31) Info: Simulation file closed.\n"
     ]
    },
    {
     "name": "stderr",
     "output_type": "stream",
     "text": [
      " 30%|###       | 30/100 [00:00<00:01, 36.35it/s]"
     ]
    },
    {
     "name": "stdout",
     "output_type": "stream",
     "text": [
      "2025-07-07 15:32:31) Info: Using 56 processor(s) and 1 CUDA device(s) per process.\n",
      "2025-07-07 15:32:31) Info: Assigning 1.00 processor(s) and 1.00 CUDA device(s) per replicate.\n",
      "2025-07-07 15:32:31) Info: Data output thread running.\n",
      "2025-07-07 15:32:31) Info: Seeding xorwow rng with top word 31 and bottom word 872901925\n",
      "2025-07-07 15:32:31) Info: Data output thread finished.\n",
      "2025-07-07 15:32:31) Info: Simulation file closed.\n",
      "2025-07-07 15:32:31) Info: Using 56 processor(s) and 1 CUDA device(s) per process.\n",
      "2025-07-07 15:32:31) Info: Assigning 1.00 processor(s) and 1.00 CUDA device(s) per replicate.\n",
      "2025-07-07 15:32:31) Info: Data output thread running.\n",
      "2025-07-07 15:32:31) Info: Seeding xorwow rng with top word 32 and bottom word 898566806\n",
      "2025-07-07 15:32:31) Info: Data output thread finished.\n",
      "2025-07-07 15:32:31) Info: Simulation file closed.\n",
      "2025-07-07 15:32:31) Info: Using 56 processor(s) and 1 CUDA device(s) per process.\n",
      "2025-07-07 15:32:31) Info: Assigning 1.00 processor(s) and 1.00 CUDA device(s) per replicate.\n",
      "2025-07-07 15:32:31) Info: Data output thread running.\n",
      "2025-07-07 15:32:31) Info: Seeding xorwow rng with top word 33 and bottom word 925166744\n",
      "2025-07-07 15:32:31) Info: Data output thread finished.\n",
      "2025-07-07 15:32:31) Info: Simulation file closed.\n",
      "2025-07-07 15:32:31) Info: Using 56 processor(s) and 1 CUDA device(s) per process.\n",
      "2025-07-07 15:32:31) Info: Assigning 1.00 processor(s) and 1.00 CUDA device(s) per replicate.\n",
      "2025-07-07 15:32:31) Info: Data output thread running.\n",
      "2025-07-07 15:32:31) Info: Seeding xorwow rng with top word 34 and bottom word 952562234\n",
      "2025-07-07 15:32:31) Info: Data output thread finished.\n",
      "2025-07-07 15:32:31) Info: Simulation file closed.\n"
     ]
    },
    {
     "name": "stderr",
     "output_type": "stream",
     "text": [
      " 34%|###4      | 34/100 [00:00<00:01, 36.74it/s]"
     ]
    },
    {
     "name": "stdout",
     "output_type": "stream",
     "text": [
      "2025-07-07 15:32:31) Info: Using 56 processor(s) and 1 CUDA device(s) per process.\n",
      "2025-07-07 15:32:31) Info: Assigning 1.00 processor(s) and 1.00 CUDA device(s) per replicate.\n",
      "2025-07-07 15:32:31) Info: Data output thread running.\n",
      "2025-07-07 15:32:31) Info: Seeding xorwow rng with top word 35 and bottom word 979748124\n",
      "2025-07-07 15:32:31) Info: Data output thread finished.\n",
      "2025-07-07 15:32:31) Info: Simulation file closed.\n",
      "2025-07-07 15:32:31) Info: Using 56 processor(s) and 1 CUDA device(s) per process.\n",
      "2025-07-07 15:32:31) Info: Assigning 1.00 processor(s) and 1.00 CUDA device(s) per replicate.\n",
      "2025-07-07 15:32:31) Info: Data output thread running.\n",
      "2025-07-07 15:32:32) Info: Seeding xorwow rng with top word 36 and bottom word 4607559\n",
      "2025-07-07 15:32:32) Info: Data output thread finished.\n",
      "2025-07-07 15:32:32) Info: Simulation file closed.\n",
      "2025-07-07 15:32:32) Info: Using 56 processor(s) and 1 CUDA device(s) per process.\n",
      "2025-07-07 15:32:32) Info: Assigning 1.00 processor(s) and 1.00 CUDA device(s) per replicate.\n",
      "2025-07-07 15:32:32) Info: Data output thread running.\n",
      "2025-07-07 15:32:32) Info: Seeding xorwow rng with top word 37 and bottom word 31119303\n",
      "2025-07-07 15:32:32) Info: Data output thread finished.\n",
      "2025-07-07 15:32:32) Info: Simulation file closed.\n",
      "2025-07-07 15:32:32) Info: Using 56 processor(s) and 1 CUDA device(s) per process.\n",
      "2025-07-07 15:32:32) Info: Assigning 1.00 processor(s) and 1.00 CUDA device(s) per replicate.\n",
      "2025-07-07 15:32:32) Info: Data output thread running.\n",
      "2025-07-07 15:32:32) Info: Seeding xorwow rng with top word 38 and bottom word 56700475\n",
      "2025-07-07 15:32:32) Info: Data output thread finished.\n",
      "2025-07-07 15:32:32) Info: Simulation file closed.\n"
     ]
    },
    {
     "name": "stderr",
     "output_type": "stream",
     "text": [
      " 38%|###8      | 38/100 [00:01<00:01, 37.30it/s]"
     ]
    },
    {
     "name": "stdout",
     "output_type": "stream",
     "text": [
      "2025-07-07 15:32:32) Info: Using 56 processor(s) and 1 CUDA device(s) per process.\n",
      "2025-07-07 15:32:32) Info: Assigning 1.00 processor(s) and 1.00 CUDA device(s) per replicate.\n",
      "2025-07-07 15:32:32) Info: Data output thread running.\n",
      "2025-07-07 15:32:32) Info: Seeding xorwow rng with top word 39 and bottom word 83197271\n",
      "2025-07-07 15:32:32) Info: Data output thread finished.\n",
      "2025-07-07 15:32:32) Info: Simulation file closed.\n",
      "2025-07-07 15:32:32) Info: Using 56 processor(s) and 1 CUDA device(s) per process.\n",
      "2025-07-07 15:32:32) Info: Assigning 1.00 processor(s) and 1.00 CUDA device(s) per replicate.\n",
      "2025-07-07 15:32:32) Info: Data output thread running.\n",
      "2025-07-07 15:32:32) Info: Seeding xorwow rng with top word 40 and bottom word 108570034\n",
      "2025-07-07 15:32:32) Info: Data output thread finished.\n",
      "2025-07-07 15:32:32) Info: Simulation file closed.\n",
      "2025-07-07 15:32:32) Info: Using 56 processor(s) and 1 CUDA device(s) per process.\n",
      "2025-07-07 15:32:32) Info: Assigning 1.00 processor(s) and 1.00 CUDA device(s) per replicate.\n",
      "2025-07-07 15:32:32) Info: Data output thread running.\n",
      "2025-07-07 15:32:32) Info: Seeding xorwow rng with top word 41 and bottom word 133157224\n",
      "2025-07-07 15:32:32) Info: Data output thread finished.\n",
      "2025-07-07 15:32:32) Info: Simulation file closed.\n",
      "2025-07-07 15:32:32) Info: Using 56 processor(s) and 1 CUDA device(s) per process.\n",
      "2025-07-07 15:32:32) Info: Assigning 1.00 processor(s) and 1.00 CUDA device(s) per replicate.\n",
      "2025-07-07 15:32:32) Info: Data output thread running.\n",
      "2025-07-07 15:32:32) Info: Seeding xorwow rng with top word 42 and bottom word 160437783\n",
      "2025-07-07 15:32:32) Info: Data output thread finished.\n",
      "2025-07-07 15:32:32) Info: Simulation file closed.\n"
     ]
    },
    {
     "name": "stderr",
     "output_type": "stream",
     "text": [
      " 42%|####2     | 42/100 [00:01<00:01, 37.61it/s]"
     ]
    },
    {
     "name": "stdout",
     "output_type": "stream",
     "text": [
      "2025-07-07 15:32:32) Info: Using 56 processor(s) and 1 CUDA device(s) per process.\n",
      "2025-07-07 15:32:32) Info: Assigning 1.00 processor(s) and 1.00 CUDA device(s) per replicate.\n",
      "2025-07-07 15:32:32) Info: Data output thread running.\n",
      "2025-07-07 15:32:32) Info: Seeding xorwow rng with top word 43 and bottom word 188207927\n",
      "2025-07-07 15:32:32) Info: Data output thread finished.\n",
      "2025-07-07 15:32:32) Info: Simulation file closed.\n",
      "2025-07-07 15:32:32) Info: Using 56 processor(s) and 1 CUDA device(s) per process.\n",
      "2025-07-07 15:32:32) Info: Assigning 1.00 processor(s) and 1.00 CUDA device(s) per replicate.\n",
      "2025-07-07 15:32:32) Info: Data output thread running.\n",
      "2025-07-07 15:32:32) Info: Seeding xorwow rng with top word 44 and bottom word 216332622\n",
      "2025-07-07 15:32:32) Info: Data output thread finished.\n",
      "2025-07-07 15:32:32) Info: Simulation file closed.\n",
      "2025-07-07 15:32:32) Info: Using 56 processor(s) and 1 CUDA device(s) per process.\n",
      "2025-07-07 15:32:32) Info: Assigning 1.00 processor(s) and 1.00 CUDA device(s) per replicate.\n",
      "2025-07-07 15:32:32) Info: Data output thread running.\n",
      "2025-07-07 15:32:32) Info: Seeding xorwow rng with top word 45 and bottom word 242398439\n",
      "2025-07-07 15:32:32) Info: Data output thread finished.\n",
      "2025-07-07 15:32:32) Info: Simulation file closed.\n",
      "2025-07-07 15:32:32) Info: Using 56 processor(s) and 1 CUDA device(s) per process.\n",
      "2025-07-07 15:32:32) Info: Assigning 1.00 processor(s) and 1.00 CUDA device(s) per replicate.\n",
      "2025-07-07 15:32:32) Info: Data output thread running.\n",
      "2025-07-07 15:32:32) Info: Seeding xorwow rng with top word 46 and bottom word 268780930\n",
      "2025-07-07 15:32:32) Info: Data output thread finished.\n",
      "2025-07-07 15:32:32) Info: Simulation file closed.\n"
     ]
    },
    {
     "name": "stderr",
     "output_type": "stream",
     "text": [
      " 46%|####6     | 46/100 [00:01<00:01, 37.42it/s]"
     ]
    },
    {
     "name": "stdout",
     "output_type": "stream",
     "text": [
      "2025-07-07 15:32:32) Info: Using 56 processor(s) and 1 CUDA device(s) per process.\n",
      "2025-07-07 15:32:32) Info: Assigning 1.00 processor(s) and 1.00 CUDA device(s) per replicate.\n",
      "2025-07-07 15:32:32) Info: Data output thread running.\n",
      "2025-07-07 15:32:32) Info: Seeding xorwow rng with top word 47 and bottom word 295859943\n",
      "2025-07-07 15:32:32) Info: Data output thread finished.\n",
      "2025-07-07 15:32:32) Info: Simulation file closed.\n",
      "2025-07-07 15:32:32) Info: Using 56 processor(s) and 1 CUDA device(s) per process.\n",
      "2025-07-07 15:32:32) Info: Assigning 1.00 processor(s) and 1.00 CUDA device(s) per replicate.\n",
      "2025-07-07 15:32:32) Info: Data output thread running.\n",
      "2025-07-07 15:32:32) Info: Seeding xorwow rng with top word 48 and bottom word 323831607\n",
      "2025-07-07 15:32:32) Info: Data output thread finished.\n",
      "2025-07-07 15:32:32) Info: Simulation file closed.\n",
      "2025-07-07 15:32:32) Info: Using 56 processor(s) and 1 CUDA device(s) per process.\n",
      "2025-07-07 15:32:32) Info: Assigning 1.00 processor(s) and 1.00 CUDA device(s) per replicate.\n",
      "2025-07-07 15:32:32) Info: Data output thread running.\n",
      "2025-07-07 15:32:32) Info: Seeding xorwow rng with top word 49 and bottom word 348627110\n",
      "2025-07-07 15:32:32) Info: Data output thread finished.\n",
      "2025-07-07 15:32:32) Info: Simulation file closed.\n",
      "2025-07-07 15:32:32) Info: Using 56 processor(s) and 1 CUDA device(s) per process.\n",
      "2025-07-07 15:32:32) Info: Assigning 1.00 processor(s) and 1.00 CUDA device(s) per replicate.\n",
      "2025-07-07 15:32:32) Info: Data output thread running.\n",
      "2025-07-07 15:32:32) Info: Seeding xorwow rng with top word 50 and bottom word 373879253\n",
      "2025-07-07 15:32:32) Info: Data output thread finished.\n",
      "2025-07-07 15:32:32) Info: Simulation file closed.\n"
     ]
    },
    {
     "name": "stderr",
     "output_type": "stream",
     "text": [
      " 50%|#####     | 50/100 [00:01<00:01, 37.76it/s]"
     ]
    },
    {
     "name": "stdout",
     "output_type": "stream",
     "text": [
      "2025-07-07 15:32:32) Info: Using 56 processor(s) and 1 CUDA device(s) per process.\n",
      "2025-07-07 15:32:32) Info: Assigning 1.00 processor(s) and 1.00 CUDA device(s) per replicate.\n",
      "2025-07-07 15:32:32) Info: Data output thread running.\n",
      "2025-07-07 15:32:32) Info: Seeding xorwow rng with top word 51 and bottom word 399400310\n",
      "2025-07-07 15:32:32) Info: Data output thread finished.\n",
      "2025-07-07 15:32:32) Info: Simulation file closed.\n",
      "2025-07-07 15:32:32) Info: Using 56 processor(s) and 1 CUDA device(s) per process.\n",
      "2025-07-07 15:32:32) Info: Assigning 1.00 processor(s) and 1.00 CUDA device(s) per replicate.\n",
      "2025-07-07 15:32:32) Info: Data output thread running.\n",
      "2025-07-07 15:32:32) Info: Seeding xorwow rng with top word 52 and bottom word 423766972\n",
      "2025-07-07 15:32:32) Info: Data output thread finished.\n",
      "2025-07-07 15:32:32) Info: Simulation file closed.\n",
      "2025-07-07 15:32:32) Info: Using 56 processor(s) and 1 CUDA device(s) per process.\n",
      "2025-07-07 15:32:32) Info: Assigning 1.00 processor(s) and 1.00 CUDA device(s) per replicate.\n",
      "2025-07-07 15:32:32) Info: Data output thread running.\n",
      "2025-07-07 15:32:32) Info: Seeding xorwow rng with top word 53 and bottom word 449822650\n",
      "2025-07-07 15:32:32) Info: Data output thread finished.\n",
      "2025-07-07 15:32:32) Info: Simulation file closed.\n",
      "2025-07-07 15:32:32) Info: Using 56 processor(s) and 1 CUDA device(s) per process.\n",
      "2025-07-07 15:32:32) Info: Assigning 1.00 processor(s) and 1.00 CUDA device(s) per replicate.\n",
      "2025-07-07 15:32:32) Info: Data output thread running.\n",
      "2025-07-07 15:32:32) Info: Seeding xorwow rng with top word 54 and bottom word 475363102\n",
      "2025-07-07 15:32:32) Info: Data output thread finished.\n",
      "2025-07-07 15:32:32) Info: Simulation file closed.\n"
     ]
    },
    {
     "name": "stderr",
     "output_type": "stream",
     "text": [
      " 54%|#####4    | 54/100 [00:01<00:01, 38.29it/s]"
     ]
    },
    {
     "name": "stdout",
     "output_type": "stream",
     "text": [
      "2025-07-07 15:32:32) Info: Using 56 processor(s) and 1 CUDA device(s) per process.\n",
      "2025-07-07 15:32:32) Info: Assigning 1.00 processor(s) and 1.00 CUDA device(s) per replicate.\n",
      "2025-07-07 15:32:32) Info: Data output thread running.\n",
      "2025-07-07 15:32:32) Info: Seeding xorwow rng with top word 55 and bottom word 500116884\n",
      "2025-07-07 15:32:32) Info: Data output thread finished.\n",
      "2025-07-07 15:32:32) Info: Simulation file closed.\n",
      "2025-07-07 15:32:32) Info: Using 56 processor(s) and 1 CUDA device(s) per process.\n",
      "2025-07-07 15:32:32) Info: Assigning 1.00 processor(s) and 1.00 CUDA device(s) per replicate.\n",
      "2025-07-07 15:32:32) Info: Data output thread running.\n",
      "2025-07-07 15:32:32) Info: Seeding xorwow rng with top word 56 and bottom word 525605058\n",
      "2025-07-07 15:32:32) Info: Data output thread finished.\n",
      "2025-07-07 15:32:32) Info: Simulation file closed.\n",
      "2025-07-07 15:32:32) Info: Using 56 processor(s) and 1 CUDA device(s) per process.\n",
      "2025-07-07 15:32:32) Info: Assigning 1.00 processor(s) and 1.00 CUDA device(s) per replicate.\n",
      "2025-07-07 15:32:32) Info: Data output thread running.\n",
      "2025-07-07 15:32:32) Info: Seeding xorwow rng with top word 57 and bottom word 552463420\n",
      "2025-07-07 15:32:32) Info: Data output thread finished.\n",
      "2025-07-07 15:32:32) Info: Simulation file closed.\n",
      "2025-07-07 15:32:32) Info: Using 56 processor(s) and 1 CUDA device(s) per process.\n",
      "2025-07-07 15:32:32) Info: Assigning 1.00 processor(s) and 1.00 CUDA device(s) per replicate.\n",
      "2025-07-07 15:32:32) Info: Data output thread running.\n",
      "2025-07-07 15:32:32) Info: Seeding xorwow rng with top word 58 and bottom word 580301819\n",
      "2025-07-07 15:32:32) Info: Data output thread finished.\n",
      "2025-07-07 15:32:32) Info: Simulation file closed.\n"
     ]
    },
    {
     "name": "stderr",
     "output_type": "stream",
     "text": [
      " 58%|#####8    | 58/100 [00:01<00:01, 37.68it/s]"
     ]
    },
    {
     "name": "stdout",
     "output_type": "stream",
     "text": [
      "2025-07-07 15:32:32) Info: Using 56 processor(s) and 1 CUDA device(s) per process.\n",
      "2025-07-07 15:32:32) Info: Assigning 1.00 processor(s) and 1.00 CUDA device(s) per replicate.\n",
      "2025-07-07 15:32:32) Info: Data output thread running.\n",
      "2025-07-07 15:32:32) Info: Seeding xorwow rng with top word 59 and bottom word 611254957\n",
      "2025-07-07 15:32:32) Info: Data output thread finished.\n",
      "2025-07-07 15:32:32) Info: Simulation file closed.\n",
      "2025-07-07 15:32:32) Info: Using 56 processor(s) and 1 CUDA device(s) per process.\n",
      "2025-07-07 15:32:32) Info: Assigning 1.00 processor(s) and 1.00 CUDA device(s) per replicate.\n",
      "2025-07-07 15:32:32) Info: Data output thread running.\n",
      "2025-07-07 15:32:32) Info: Seeding xorwow rng with top word 60 and bottom word 637253730\n",
      "2025-07-07 15:32:32) Info: Data output thread finished.\n",
      "2025-07-07 15:32:32) Info: Simulation file closed.\n",
      "2025-07-07 15:32:32) Info: Using 56 processor(s) and 1 CUDA device(s) per process.\n",
      "2025-07-07 15:32:32) Info: Assigning 1.00 processor(s) and 1.00 CUDA device(s) per replicate.\n",
      "2025-07-07 15:32:32) Info: Data output thread running.\n",
      "2025-07-07 15:32:32) Info: Seeding xorwow rng with top word 61 and bottom word 663065698\n",
      "2025-07-07 15:32:32) Info: Data output thread finished.\n",
      "2025-07-07 15:32:32) Info: Simulation file closed.\n",
      "2025-07-07 15:32:32) Info: Using 56 processor(s) and 1 CUDA device(s) per process.\n",
      "2025-07-07 15:32:32) Info: Assigning 1.00 processor(s) and 1.00 CUDA device(s) per replicate.\n",
      "2025-07-07 15:32:32) Info: Data output thread running.\n",
      "2025-07-07 15:32:32) Info: Seeding xorwow rng with top word 62 and bottom word 688968289\n",
      "2025-07-07 15:32:32) Info: Data output thread finished.\n",
      "2025-07-07 15:32:32) Info: Simulation file closed.\n"
     ]
    },
    {
     "name": "stderr",
     "output_type": "stream",
     "text": [
      " 62%|######2   | 62/100 [00:01<00:01, 37.94it/s]"
     ]
    },
    {
     "name": "stdout",
     "output_type": "stream",
     "text": [
      "2025-07-07 15:32:32) Info: Using 56 processor(s) and 1 CUDA device(s) per process.\n",
      "2025-07-07 15:32:32) Info: Assigning 1.00 processor(s) and 1.00 CUDA device(s) per replicate.\n",
      "2025-07-07 15:32:32) Info: Data output thread running.\n",
      "2025-07-07 15:32:32) Info: Seeding xorwow rng with top word 63 and bottom word 714475166\n",
      "2025-07-07 15:32:32) Info: Data output thread finished.\n",
      "2025-07-07 15:32:32) Info: Simulation file closed.\n",
      "2025-07-07 15:32:32) Info: Using 56 processor(s) and 1 CUDA device(s) per process.\n",
      "2025-07-07 15:32:32) Info: Assigning 1.00 processor(s) and 1.00 CUDA device(s) per replicate.\n",
      "2025-07-07 15:32:32) Info: Data output thread running.\n",
      "2025-07-07 15:32:32) Info: Seeding xorwow rng with top word 64 and bottom word 740336636\n",
      "2025-07-07 15:32:32) Info: Data output thread finished.\n",
      "2025-07-07 15:32:32) Info: Simulation file closed.\n",
      "2025-07-07 15:32:32) Info: Using 56 processor(s) and 1 CUDA device(s) per process.\n",
      "2025-07-07 15:32:32) Info: Assigning 1.00 processor(s) and 1.00 CUDA device(s) per replicate.\n",
      "2025-07-07 15:32:32) Info: Data output thread running.\n",
      "2025-07-07 15:32:32) Info: Seeding xorwow rng with top word 65 and bottom word 767626707\n",
      "2025-07-07 15:32:32) Info: Data output thread finished.\n",
      "2025-07-07 15:32:32) Info: Simulation file closed.\n",
      "2025-07-07 15:32:32) Info: Using 56 processor(s) and 1 CUDA device(s) per process.\n",
      "2025-07-07 15:32:32) Info: Assigning 1.00 processor(s) and 1.00 CUDA device(s) per replicate.\n",
      "2025-07-07 15:32:32) Info: Data output thread running.\n",
      "2025-07-07 15:32:32) Info: Seeding xorwow rng with top word 66 and bottom word 792727386\n",
      "2025-07-07 15:32:32) Info: Data output thread finished.\n",
      "2025-07-07 15:32:32) Info: Simulation file closed.\n"
     ]
    },
    {
     "name": "stderr",
     "output_type": "stream",
     "text": [
      " 66%|######6   | 66/100 [00:01<00:00, 38.13it/s]"
     ]
    },
    {
     "name": "stdout",
     "output_type": "stream",
     "text": [
      "2025-07-07 15:32:32) Info: Using 56 processor(s) and 1 CUDA device(s) per process.\n",
      "2025-07-07 15:32:32) Info: Assigning 1.00 processor(s) and 1.00 CUDA device(s) per replicate.\n",
      "2025-07-07 15:32:32) Info: Data output thread running.\n",
      "2025-07-07 15:32:32) Info: Seeding xorwow rng with top word 67 and bottom word 818529631\n",
      "2025-07-07 15:32:32) Info: Data output thread finished.\n",
      "2025-07-07 15:32:32) Info: Simulation file closed.\n",
      "2025-07-07 15:32:32) Info: Using 56 processor(s) and 1 CUDA device(s) per process.\n",
      "2025-07-07 15:32:32) Info: Assigning 1.00 processor(s) and 1.00 CUDA device(s) per replicate.\n",
      "2025-07-07 15:32:32) Info: Data output thread running.\n",
      "2025-07-07 15:32:32) Info: Seeding xorwow rng with top word 68 and bottom word 844778026\n",
      "2025-07-07 15:32:32) Info: Data output thread finished.\n",
      "2025-07-07 15:32:32) Info: Simulation file closed.\n",
      "2025-07-07 15:32:32) Info: Using 56 processor(s) and 1 CUDA device(s) per process.\n",
      "2025-07-07 15:32:32) Info: Assigning 1.00 processor(s) and 1.00 CUDA device(s) per replicate.\n",
      "2025-07-07 15:32:32) Info: Data output thread running.\n",
      "2025-07-07 15:32:32) Info: Seeding xorwow rng with top word 69 and bottom word 871651483\n",
      "2025-07-07 15:32:32) Info: Data output thread finished.\n",
      "2025-07-07 15:32:32) Info: Simulation file closed.\n",
      "2025-07-07 15:32:32) Info: Using 56 processor(s) and 1 CUDA device(s) per process.\n",
      "2025-07-07 15:32:32) Info: Assigning 1.00 processor(s) and 1.00 CUDA device(s) per replicate.\n",
      "2025-07-07 15:32:32) Info: Data output thread running.\n",
      "2025-07-07 15:32:32) Info: Seeding xorwow rng with top word 70 and bottom word 897190790\n",
      "2025-07-07 15:32:32) Info: Data output thread finished.\n",
      "2025-07-07 15:32:32) Info: Simulation file closed.\n"
     ]
    },
    {
     "name": "stderr",
     "output_type": "stream",
     "text": [
      " 70%|#######   | 70/100 [00:01<00:00, 38.05it/s]"
     ]
    },
    {
     "name": "stdout",
     "output_type": "stream",
     "text": [
      "2025-07-07 15:32:32) Info: Using 56 processor(s) and 1 CUDA device(s) per process.\n",
      "2025-07-07 15:32:32) Info: Assigning 1.00 processor(s) and 1.00 CUDA device(s) per replicate.\n",
      "2025-07-07 15:32:32) Info: Data output thread running.\n",
      "2025-07-07 15:32:32) Info: Seeding xorwow rng with top word 71 and bottom word 923679468\n",
      "2025-07-07 15:32:32) Info: Data output thread finished.\n",
      "2025-07-07 15:32:32) Info: Simulation file closed.\n",
      "2025-07-07 15:32:32) Info: Using 56 processor(s) and 1 CUDA device(s) per process.\n",
      "2025-07-07 15:32:32) Info: Assigning 1.00 processor(s) and 1.00 CUDA device(s) per replicate.\n",
      "2025-07-07 15:32:32) Info: Data output thread running.\n",
      "2025-07-07 15:32:32) Info: Seeding xorwow rng with top word 72 and bottom word 949026481\n",
      "2025-07-07 15:32:32) Info: Data output thread finished.\n",
      "2025-07-07 15:32:32) Info: Simulation file closed.\n",
      "2025-07-07 15:32:32) Info: Using 56 processor(s) and 1 CUDA device(s) per process.\n",
      "2025-07-07 15:32:32) Info: Assigning 1.00 processor(s) and 1.00 CUDA device(s) per replicate.\n",
      "2025-07-07 15:32:32) Info: Data output thread running.\n",
      "2025-07-07 15:32:32) Info: Seeding xorwow rng with top word 73 and bottom word 975142067\n",
      "2025-07-07 15:32:32) Info: Data output thread finished.\n",
      "2025-07-07 15:32:32) Info: Simulation file closed.\n",
      "2025-07-07 15:32:32) Info: Using 56 processor(s) and 1 CUDA device(s) per process.\n",
      "2025-07-07 15:32:32) Info: Assigning 1.00 processor(s) and 1.00 CUDA device(s) per replicate.\n",
      "2025-07-07 15:32:32) Info: Data output thread running.\n",
      "2025-07-07 15:32:33) Info: Seeding xorwow rng with top word 74 and bottom word 2575547\n",
      "2025-07-07 15:32:33) Info: Data output thread finished.\n",
      "2025-07-07 15:32:33) Info: Simulation file closed.\n"
     ]
    },
    {
     "name": "stderr",
     "output_type": "stream",
     "text": [
      " 74%|#######4  | 74/100 [00:02<00:00, 37.80it/s]"
     ]
    },
    {
     "name": "stdout",
     "output_type": "stream",
     "text": [
      "2025-07-07 15:32:33) Info: Using 56 processor(s) and 1 CUDA device(s) per process.\n",
      "2025-07-07 15:32:33) Info: Assigning 1.00 processor(s) and 1.00 CUDA device(s) per replicate.\n",
      "2025-07-07 15:32:33) Info: Data output thread running.\n",
      "2025-07-07 15:32:33) Info: Seeding xorwow rng with top word 75 and bottom word 31495250\n",
      "2025-07-07 15:32:33) Info: Data output thread finished.\n",
      "2025-07-07 15:32:33) Info: Simulation file closed.\n",
      "2025-07-07 15:32:33) Info: Using 56 processor(s) and 1 CUDA device(s) per process.\n",
      "2025-07-07 15:32:33) Info: Assigning 1.00 processor(s) and 1.00 CUDA device(s) per replicate.\n",
      "2025-07-07 15:32:33) Info: Data output thread running.\n",
      "2025-07-07 15:32:33) Info: Seeding xorwow rng with top word 76 and bottom word 59530979\n",
      "2025-07-07 15:32:33) Info: Data output thread finished.\n",
      "2025-07-07 15:32:33) Info: Simulation file closed.\n",
      "2025-07-07 15:32:33) Info: Using 56 processor(s) and 1 CUDA device(s) per process.\n",
      "2025-07-07 15:32:33) Info: Assigning 1.00 processor(s) and 1.00 CUDA device(s) per replicate.\n",
      "2025-07-07 15:32:33) Info: Data output thread running.\n",
      "2025-07-07 15:32:33) Info: Seeding xorwow rng with top word 77 and bottom word 85608107\n",
      "2025-07-07 15:32:33) Info: Data output thread finished.\n",
      "2025-07-07 15:32:33) Info: Simulation file closed.\n",
      "2025-07-07 15:32:33) Info: Using 56 processor(s) and 1 CUDA device(s) per process.\n",
      "2025-07-07 15:32:33) Info: Assigning 1.00 processor(s) and 1.00 CUDA device(s) per replicate.\n",
      "2025-07-07 15:32:33) Info: Data output thread running.\n",
      "2025-07-07 15:32:33) Info: Seeding xorwow rng with top word 78 and bottom word 113973204\n",
      "2025-07-07 15:32:33) Info: Data output thread finished.\n",
      "2025-07-07 15:32:33) Info: Simulation file closed.\n"
     ]
    },
    {
     "name": "stderr",
     "output_type": "stream",
     "text": [
      " 78%|#######8  | 78/100 [00:02<00:00, 37.01it/s]"
     ]
    },
    {
     "name": "stdout",
     "output_type": "stream",
     "text": [
      "2025-07-07 15:32:33) Info: Using 56 processor(s) and 1 CUDA device(s) per process.\n",
      "2025-07-07 15:32:33) Info: Assigning 1.00 processor(s) and 1.00 CUDA device(s) per replicate.\n",
      "2025-07-07 15:32:33) Info: Data output thread running.\n",
      "2025-07-07 15:32:33) Info: Seeding xorwow rng with top word 79 and bottom word 145655003\n",
      "2025-07-07 15:32:33) Info: Data output thread finished.\n",
      "2025-07-07 15:32:33) Info: Simulation file closed.\n",
      "2025-07-07 15:32:33) Info: Using 56 processor(s) and 1 CUDA device(s) per process.\n",
      "2025-07-07 15:32:33) Info: Assigning 1.00 processor(s) and 1.00 CUDA device(s) per replicate.\n",
      "2025-07-07 15:32:33) Info: Data output thread running.\n",
      "2025-07-07 15:32:33) Info: Seeding xorwow rng with top word 80 and bottom word 174850811\n",
      "2025-07-07 15:32:33) Info: Data output thread finished.\n",
      "2025-07-07 15:32:33) Info: Simulation file closed.\n",
      "2025-07-07 15:32:33) Info: Using 56 processor(s) and 1 CUDA device(s) per process.\n",
      "2025-07-07 15:32:33) Info: Assigning 1.00 processor(s) and 1.00 CUDA device(s) per replicate.\n",
      "2025-07-07 15:32:33) Info: Data output thread running.\n",
      "2025-07-07 15:32:33) Info: Seeding xorwow rng with top word 81 and bottom word 203213085\n",
      "2025-07-07 15:32:33) Info: Data output thread finished.\n",
      "2025-07-07 15:32:33) Info: Simulation file closed.\n",
      "2025-07-07 15:32:33) Info: Using 56 processor(s) and 1 CUDA device(s) per process.\n",
      "2025-07-07 15:32:33) Info: Assigning 1.00 processor(s) and 1.00 CUDA device(s) per replicate.\n",
      "2025-07-07 15:32:33) Info: Data output thread running.\n",
      "2025-07-07 15:32:33) Info: Seeding xorwow rng with top word 82 and bottom word 231340981\n",
      "2025-07-07 15:32:33) Info: Data output thread finished.\n",
      "2025-07-07 15:32:33) Info: Simulation file closed.\n"
     ]
    },
    {
     "name": "stderr",
     "output_type": "stream",
     "text": [
      " 82%|########2 | 82/100 [00:02<00:00, 36.36it/s]"
     ]
    },
    {
     "name": "stdout",
     "output_type": "stream",
     "text": [
      "2025-07-07 15:32:33) Info: Using 56 processor(s) and 1 CUDA device(s) per process.\n",
      "2025-07-07 15:32:33) Info: Assigning 1.00 processor(s) and 1.00 CUDA device(s) per replicate.\n",
      "2025-07-07 15:32:33) Info: Data output thread running.\n",
      "2025-07-07 15:32:33) Info: Seeding xorwow rng with top word 83 and bottom word 258965239\n",
      "2025-07-07 15:32:33) Info: Data output thread finished.\n",
      "2025-07-07 15:32:33) Info: Simulation file closed.\n",
      "2025-07-07 15:32:33) Info: Using 56 processor(s) and 1 CUDA device(s) per process.\n",
      "2025-07-07 15:32:33) Info: Assigning 1.00 processor(s) and 1.00 CUDA device(s) per replicate.\n",
      "2025-07-07 15:32:33) Info: Data output thread running.\n",
      "2025-07-07 15:32:33) Info: Seeding xorwow rng with top word 84 and bottom word 285524412\n",
      "2025-07-07 15:32:33) Info: Data output thread finished.\n",
      "2025-07-07 15:32:33) Info: Simulation file closed.\n",
      "2025-07-07 15:32:33) Info: Using 56 processor(s) and 1 CUDA device(s) per process.\n",
      "2025-07-07 15:32:33) Info: Assigning 1.00 processor(s) and 1.00 CUDA device(s) per replicate.\n",
      "2025-07-07 15:32:33) Info: Data output thread running.\n",
      "2025-07-07 15:32:33) Info: Seeding xorwow rng with top word 85 and bottom word 311487090\n",
      "2025-07-07 15:32:33) Info: Data output thread finished.\n",
      "2025-07-07 15:32:33) Info: Simulation file closed.\n",
      "2025-07-07 15:32:33) Info: Using 56 processor(s) and 1 CUDA device(s) per process.\n",
      "2025-07-07 15:32:33) Info: Assigning 1.00 processor(s) and 1.00 CUDA device(s) per replicate.\n",
      "2025-07-07 15:32:33) Info: Data output thread running.\n",
      "2025-07-07 15:32:33) Info: Seeding xorwow rng with top word 86 and bottom word 336850123\n",
      "2025-07-07 15:32:33) Info: Data output thread finished.\n",
      "2025-07-07 15:32:33) Info: Simulation file closed.\n"
     ]
    },
    {
     "name": "stderr",
     "output_type": "stream",
     "text": [
      " 86%|########6 | 86/100 [00:02<00:00, 36.87it/s]"
     ]
    },
    {
     "name": "stdout",
     "output_type": "stream",
     "text": [
      "2025-07-07 15:32:33) Info: Using 56 processor(s) and 1 CUDA device(s) per process.\n",
      "2025-07-07 15:32:33) Info: Assigning 1.00 processor(s) and 1.00 CUDA device(s) per replicate.\n",
      "2025-07-07 15:32:33) Info: Data output thread running.\n",
      "2025-07-07 15:32:33) Info: Seeding xorwow rng with top word 87 and bottom word 363811130\n",
      "2025-07-07 15:32:33) Info: Data output thread finished.\n",
      "2025-07-07 15:32:33) Info: Simulation file closed.\n",
      "2025-07-07 15:32:33) Info: Using 56 processor(s) and 1 CUDA device(s) per process.\n",
      "2025-07-07 15:32:33) Info: Assigning 1.00 processor(s) and 1.00 CUDA device(s) per replicate.\n",
      "2025-07-07 15:32:33) Info: Data output thread running.\n",
      "2025-07-07 15:32:33) Info: Seeding xorwow rng with top word 88 and bottom word 388729121\n",
      "2025-07-07 15:32:33) Info: Data output thread finished.\n",
      "2025-07-07 15:32:33) Info: Simulation file closed.\n",
      "2025-07-07 15:32:33) Info: Using 56 processor(s) and 1 CUDA device(s) per process.\n",
      "2025-07-07 15:32:33) Info: Assigning 1.00 processor(s) and 1.00 CUDA device(s) per replicate.\n",
      "2025-07-07 15:32:33) Info: Data output thread running.\n",
      "2025-07-07 15:32:33) Info: Seeding xorwow rng with top word 89 and bottom word 413508747\n",
      "2025-07-07 15:32:33) Info: Data output thread finished.\n",
      "2025-07-07 15:32:33) Info: Simulation file closed.\n",
      "2025-07-07 15:32:33) Info: Using 56 processor(s) and 1 CUDA device(s) per process.\n",
      "2025-07-07 15:32:33) Info: Assigning 1.00 processor(s) and 1.00 CUDA device(s) per replicate.\n",
      "2025-07-07 15:32:33) Info: Data output thread running.\n",
      "2025-07-07 15:32:33) Info: Seeding xorwow rng with top word 90 and bottom word 438177609\n",
      "2025-07-07 15:32:33) Info: Data output thread finished.\n",
      "2025-07-07 15:32:33) Info: Simulation file closed.\n"
     ]
    },
    {
     "name": "stderr",
     "output_type": "stream",
     "text": [
      " 90%|######### | 90/100 [00:02<00:00, 37.57it/s]"
     ]
    },
    {
     "name": "stdout",
     "output_type": "stream",
     "text": [
      "2025-07-07 15:32:33) Info: Using 56 processor(s) and 1 CUDA device(s) per process.\n",
      "2025-07-07 15:32:33) Info: Assigning 1.00 processor(s) and 1.00 CUDA device(s) per replicate.\n",
      "2025-07-07 15:32:33) Info: Data output thread running.\n",
      "2025-07-07 15:32:33) Info: Seeding xorwow rng with top word 91 and bottom word 465511191\n",
      "2025-07-07 15:32:33) Info: Data output thread finished.\n",
      "2025-07-07 15:32:33) Info: Simulation file closed.\n",
      "2025-07-07 15:32:33) Info: Using 56 processor(s) and 1 CUDA device(s) per process.\n",
      "2025-07-07 15:32:33) Info: Assigning 1.00 processor(s) and 1.00 CUDA device(s) per replicate.\n",
      "2025-07-07 15:32:33) Info: Data output thread running.\n",
      "2025-07-07 15:32:33) Info: Seeding xorwow rng with top word 92 and bottom word 493119378\n",
      "2025-07-07 15:32:33) Info: Data output thread finished.\n",
      "2025-07-07 15:32:33) Info: Simulation file closed.\n",
      "2025-07-07 15:32:33) Info: Using 56 processor(s) and 1 CUDA device(s) per process.\n",
      "2025-07-07 15:32:33) Info: Assigning 1.00 processor(s) and 1.00 CUDA device(s) per replicate.\n",
      "2025-07-07 15:32:33) Info: Data output thread running.\n",
      "2025-07-07 15:32:33) Info: Seeding xorwow rng with top word 93 and bottom word 520465096\n",
      "2025-07-07 15:32:33) Info: Data output thread finished.\n",
      "2025-07-07 15:32:33) Info: Simulation file closed.\n",
      "2025-07-07 15:32:33) Info: Using 56 processor(s) and 1 CUDA device(s) per process.\n",
      "2025-07-07 15:32:33) Info: Assigning 1.00 processor(s) and 1.00 CUDA device(s) per replicate.\n",
      "2025-07-07 15:32:33) Info: Data output thread running.\n",
      "2025-07-07 15:32:33) Info: Seeding xorwow rng with top word 94 and bottom word 547081922\n",
      "2025-07-07 15:32:33) Info: Data output thread finished.\n",
      "2025-07-07 15:32:33) Info: Simulation file closed.\n"
     ]
    },
    {
     "name": "stderr",
     "output_type": "stream",
     "text": [
      " 94%|#########3| 94/100 [00:02<00:00, 37.37it/s]"
     ]
    },
    {
     "name": "stdout",
     "output_type": "stream",
     "text": [
      "2025-07-07 15:32:33) Info: Using 56 processor(s) and 1 CUDA device(s) per process.\n",
      "2025-07-07 15:32:33) Info: Assigning 1.00 processor(s) and 1.00 CUDA device(s) per replicate.\n",
      "2025-07-07 15:32:33) Info: Data output thread running.\n",
      "2025-07-07 15:32:33) Info: Seeding xorwow rng with top word 95 and bottom word 574040132\n",
      "2025-07-07 15:32:33) Info: Data output thread finished.\n",
      "2025-07-07 15:32:33) Info: Simulation file closed.\n",
      "2025-07-07 15:32:33) Info: Using 56 processor(s) and 1 CUDA device(s) per process.\n",
      "2025-07-07 15:32:33) Info: Assigning 1.00 processor(s) and 1.00 CUDA device(s) per replicate.\n",
      "2025-07-07 15:32:33) Info: Data output thread running.\n",
      "2025-07-07 15:32:33) Info: Seeding xorwow rng with top word 96 and bottom word 599421825\n",
      "2025-07-07 15:32:33) Info: Data output thread finished.\n",
      "2025-07-07 15:32:33) Info: Simulation file closed.\n",
      "2025-07-07 15:32:33) Info: Using 56 processor(s) and 1 CUDA device(s) per process.\n",
      "2025-07-07 15:32:33) Info: Assigning 1.00 processor(s) and 1.00 CUDA device(s) per replicate.\n",
      "2025-07-07 15:32:33) Info: Data output thread running.\n",
      "2025-07-07 15:32:33) Info: Seeding xorwow rng with top word 97 and bottom word 627664753\n",
      "2025-07-07 15:32:33) Info: Data output thread finished.\n",
      "2025-07-07 15:32:33) Info: Simulation file closed.\n",
      "2025-07-07 15:32:33) Info: Using 56 processor(s) and 1 CUDA device(s) per process.\n",
      "2025-07-07 15:32:33) Info: Assigning 1.00 processor(s) and 1.00 CUDA device(s) per replicate.\n",
      "2025-07-07 15:32:33) Info: Data output thread running.\n",
      "2025-07-07 15:32:33) Info: Seeding xorwow rng with top word 98 and bottom word 654841719\n",
      "2025-07-07 15:32:33) Info: Data output thread finished.\n",
      "2025-07-07 15:32:33) Info: Simulation file closed.\n"
     ]
    },
    {
     "name": "stderr",
     "output_type": "stream",
     "text": [
      " 98%|#########8| 98/100 [00:02<00:00, 37.33it/s]"
     ]
    },
    {
     "name": "stdout",
     "output_type": "stream",
     "text": [
      "2025-07-07 15:32:33) Info: Using 56 processor(s) and 1 CUDA device(s) per process.\n",
      "2025-07-07 15:32:33) Info: Assigning 1.00 processor(s) and 1.00 CUDA device(s) per replicate.\n",
      "2025-07-07 15:32:33) Info: Data output thread running.\n",
      "2025-07-07 15:32:33) Info: Seeding xorwow rng with top word 99 and bottom word 681248845\n",
      "2025-07-07 15:32:33) Info: Data output thread finished.\n",
      "2025-07-07 15:32:33) Info: Simulation file closed.\n",
      "2025-07-07 15:32:33) Info: Using 56 processor(s) and 1 CUDA device(s) per process.\n",
      "2025-07-07 15:32:33) Info: Assigning 1.00 processor(s) and 1.00 CUDA device(s) per replicate.\n",
      "2025-07-07 15:32:33) Info: Data output thread running.\n",
      "2025-07-07 15:32:33) Info: Seeding xorwow rng with top word 100 and bottom word 708082467\n",
      "2025-07-07 15:32:33) Info: Data output thread finished.\n",
      "2025-07-07 15:32:33) Info: Simulation file closed.\n"
     ]
    },
    {
     "name": "stderr",
     "output_type": "stream",
     "text": [
      "100%|##########| 100/100 [00:02<00:00, 36.65it/s]\n"
     ]
    }
   ],
   "source": [
    "# Run multiple replicates using the Gillespie solver\n",
    "reps = 100\n",
    "\n",
    "sim.run(filename=filename, method=\"lm::cme::GillespieDSolver\", replicates=reps)"
   ]
  },
  {
   "cell_type": "markdown",
   "metadata": {},
   "source": [
    "## Post-Processing"
   ]
  },
  {
   "cell_type": "code",
   "execution_count": 12,
   "metadata": {},
   "outputs": [],
   "source": [
    "# Import Custom Analysis and Plotting Modules\n",
    "import sys\n",
    "sys.path.append('../analyze_scripts')\n",
    "import custom_plot as plot"
   ]
  },
  {
   "cell_type": "markdown",
   "metadata": {},
   "source": [
    "Go to `fig_dir` to see the plots"
   ]
  },
  {
   "cell_type": "code",
   "execution_count": 13,
   "metadata": {},
   "outputs": [],
   "source": [
    "# Create folder to store plotted figures\n",
    "fig_dir = './plots_GIP/'\n",
    "\n",
    "if not os.path.exists(fig_dir):\n",
    "    os.mkdir(fig_dir)"
   ]
  },
  {
   "cell_type": "markdown",
   "metadata": {},
   "source": [
    "Serialize traces in LM file to a 3D Numpy Array with dimesions *(time, species, replicates)*."
   ]
  },
  {
   "cell_type": "code",
   "execution_count": 14,
   "metadata": {},
   "outputs": [
    {
     "name": "stdout",
     "output_type": "stream",
     "text": [
      "The size of the 3D trajectories is (6301, 3, 100) with dimensions time, species, and replicates.\n"
     ]
    }
   ],
   "source": [
    "fileHandle = PostProcessing.openLMFile(filename) # Create h5py file handle\n",
    "timestep = PostProcessing.getTimesteps(fileHandle) # use PostProcessing to get the timesteps of the simulation\n",
    "\n",
    "traces = np.zeros((len(timestep), len(sim.particleMap), reps)) # Initiate 3D array\n",
    "\n",
    "# go to plot python script for detail\n",
    "traces = plot.get_sim_data(traces, reps, filename) # Get 3D array\n",
    "\n",
    "print('The size of the 3D trajectories is {0} with dimensions time, species, and replicates.'.format(np.shape(traces)))"
   ]
  },
  {
   "cell_type": "markdown",
   "metadata": {},
   "source": [
    "**Mean and Variance of mRNA and Protein**"
   ]
  },
  {
   "cell_type": "markdown",
   "metadata": {},
   "source": [
    "Plot the population average and span of mRNA and protein abundances"
   ]
  },
  {
   "cell_type": "code",
   "execution_count": 15,
   "metadata": {},
   "outputs": [
    {
     "data": {
      "image/png": "[encoded data removed]",
      "text/plain": [
       "<Figure size 700x700 with 2 Axes>"
      ]
     },
     "metadata": {},
     "output_type": "display_data"
    }
   ],
   "source": [
    "# mRNA and Protein in one plot\n",
    "trace_mRNA = traces[:,1,:] # 2D array\n",
    "trace_ptn = traces[:,2,:] # 2D array\n",
    "\n",
    "time = timestep/60\n",
    "xlabel = 'Time [Min]'\n",
    "title = f'mRNA and Protein in {reps} Replicates'\n",
    "percentile = [0,100] # Full span\n",
    "fig_size = [7, 7]\n",
    "fig_name = f'GIP_mRNA_Protein_{reps}Replicates'\n",
    "\n",
    "left_data = [trace_mRNA]\n",
    "left_colors = ['red']\n",
    "left_ylabel = f'mRNA'\n",
    "left_plots = ['range_avg']\n",
    "left_ylabel_color = 'red'\n",
    "left_legends = len(left_data)*['']\n",
    "\n",
    "right_data = [trace_ptn]\n",
    "right_colors = ['blue']\n",
    "right_ylabel = f'Protein'\n",
    "right_plots = ['range_avg']\n",
    "right_ylabel_color = 'blue'\n",
    "right_legends = len(left_data)*['']\n",
    "\n",
    "plot.plot_time_dualAxes(fig_dir, fig_name, fig_size,\n",
    "            time, xlabel, title, percentile,\n",
    "            left_data, left_legends, left_colors, left_ylabel, left_plots, left_ylabel_color,\n",
    "            right_data, right_legends, right_colors, right_ylabel, right_plots, right_ylabel_color,\n",
    "            xlimit=[0,simtime/60], title_set=True, fonts_sizes=[21, 21, 24, 18],\n",
    "            extension='.png', tick_setting=[12, 4.5, 15, 'out'], line_widths = [3, 4.5], legend_pos='best')"
   ]
  },
  {
   "cell_type": "code",
   "execution_count": 16,
   "metadata": {},
   "outputs": [],
   "source": [
    "# mRNA\n",
    "# trace_mRNA = traces[:,1,:]\n",
    "# specie = 'mRNA'\n",
    "# fig_name = 'GIP_{0}_{1}replicates.png'.format(specie, reps)\n",
    "# fig_size = [7, 7] # Length by Height in inches\n",
    "# time = timestep\n",
    "# data_list=[trace_mRNA]\n",
    "# legends = [specie]\n",
    "# colors = ['red']\n",
    "# xlabel='Time [s]'\n",
    "# ylabel='Count'\n",
    "# title=f'{specie} in {reps} Replicates'\n",
    "# percentile = [0,100]\n",
    "\n",
    "# plot.plot_time_ranges(fig_dir, fig_name, fig_size,\n",
    "#                time, data_list, legends, colors, xlabel, ylabel, title,\n",
    "#                percentile, plot_avg=True, plot_range=True, xlimit=[0, simtime],\n",
    "#                title_set=True, fonts_sizes=[21, 21, 24, 18],\n",
    "#                extension='.png', tick_setting=[12, 4.5, 15, 'out'], line_widths = [3, 4.5],\n",
    "#                legend_pos='best')"
   ]
  },
  {
   "cell_type": "code",
   "execution_count": 17,
   "metadata": {},
   "outputs": [],
   "source": [
    "# protein\n",
    "# trace_ptn = traces[:,2,:]\n",
    "# specie = 'protein'\n",
    "\n",
    "# fig_name = 'GIP_{0}_{1}replicates.png'.format(specie, reps)\n",
    "# fig_size = [7, 7] # Length by Height in inches\n",
    "# time = timestep\n",
    "# data_list=[trace_ptn]\n",
    "# legends = [specie]\n",
    "# colors = ['blue']\n",
    "# xlabel='Time [s]'\n",
    "# ylabel='Count'\n",
    "# title=f'{specie} in {reps} Replicates'\n",
    "# percentile = [0,100]\n",
    "\n",
    "# plot.plot_time_ranges(fig_dir, fig_name, fig_size,\n",
    "#                time, data_list, legends, colors, xlabel, ylabel, title,\n",
    "#                percentile, plot_avg=True, plot_range=True, xlimit=[0, simtime],\n",
    "#                title_set=True, fonts_sizes=[21, 21, 24, 18],\n",
    "#                extension='.png', tick_setting=[12, 4.5, 15, 'out'], line_widths = [3, 4.5],\n",
    "#                legend_pos='best')"
   ]
  },
  {
   "cell_type": "markdown",
   "metadata": {},
   "source": [
    "**mRNA and protein in each single cell replicate individually**\n",
    "\n",
    "The genetic information process occurrs in each single cell replicate. Now, let's look at the protein synthesis at single-cell level.\n",
    "\n",
    "You will an increase/burst in protein count when there are mRNAs and the halting when no mRNA."
   ]
  },
  {
   "cell_type": "code",
   "execution_count": 18,
   "metadata": {},
   "outputs": [
    {
     "data": {
      "image/png": "[encoded data removed]",
      "text/plain": [
       "<Figure size 700x700 with 2 Axes>"
      ]
     },
     "metadata": {},
     "output_type": "display_data"
    }
   ],
   "source": [
    "# mRNA and Protein in one plot\n",
    "rep = 1 # Choose cell replicate `rep`\n",
    "trace_mRNA = traces[:,1,:] # 2D array\n",
    "trace_ptn = traces[:,2,:] # 2D array\n",
    "\n",
    "time = timestep/60\n",
    "xlabel = 'Time [Min]'\n",
    "title = f'mRNA and Protein in Cell {rep}'\n",
    "percentile = [0,100] # Full span\n",
    "fig_size = [7, 7]\n",
    "fig_name = f'GIP_mRNA_Protein_Cell{rep}'\n",
    "\n",
    "left_data = [trace_mRNA[:,rep-1]]\n",
    "left_colors = ['red']\n",
    "left_ylabel = f'mRNA'\n",
    "left_plots = ['single']\n",
    "left_ylabel_color = 'red'\n",
    "left_legends = len(left_data)*['']\n",
    "\n",
    "right_data = [trace_ptn[:,rep-1]]\n",
    "right_colors = ['blue']\n",
    "right_ylabel = f'Protein'\n",
    "right_plots = ['single']\n",
    "right_ylabel_color = 'blue'\n",
    "right_legends = len(left_data)*['']\n",
    "\n",
    "plot.plot_time_dualAxes(fig_dir, fig_name, fig_size,\n",
    "            time, xlabel, title, percentile,\n",
    "            left_data, left_legends, left_colors, left_ylabel, left_plots, left_ylabel_color,\n",
    "            right_data, right_legends, right_colors, right_ylabel, right_plots, right_ylabel_color,\n",
    "            xlimit=[0,simtime/60], title_set=True, fonts_sizes=[21, 21, 24, 18],\n",
    "            extension='.png', tick_setting=[12, 4.5, 15, 'out'], line_widths = [3, 4.5], legend_pos='best')"
   ]
  },
  {
   "cell_type": "markdown",
   "metadata": {},
   "source": [
    "**Distribution of Protein at the end of the cell cycle**\n",
    "\n",
    "Increase the `reps` from 10 to 100 after restart the kernel, and redo the histogram"
   ]
  },
  {
   "cell_type": "code",
   "execution_count": 22,
   "metadata": {
    "scrolled": true
   },
   "outputs": [
    {
     "name": "stdout",
     "output_type": "stream",
     "text": [
      "Hist ./plots_GIP/GIP_Proteins_CycleEnd_100replicates.png : Min 145.00, Mean 268.51, Median 251.50, Max 501.00\n"
     ]
    },
    {
     "data": {
      "image/png": "[encoded data removed]",
      "text/plain": [
       "<Figure size 700x700 with 1 Axes>"
      ]
     },
     "metadata": {},
     "output_type": "display_data"
    }
   ],
   "source": [
    "# Protein Distribution\n",
    "ptn_endcycle = trace_ptn[-1,:] # 1D array\n",
    "\n",
    "fig_size=[7, 7]\n",
    "fig_name=f'GIP_Proteins_CycleEnd_{reps}replicates'\n",
    "data_list=[ptn_endcycle]\n",
    "legends=['']\n",
    "colors = ['blue']\n",
    "xlabel='Protein Counts at Cycle End'\n",
    "ylabel='Cells'\n",
    "title=f'Proteins Distribution in {reps} Replicates'\n",
    "bins=min(int(reps/2), 10)\n",
    "\n",
    "plot.plot_hists(fig_dir, fig_name, fig_size,\n",
    "            data_list, legends, colors, xlabel, ylabel, title, bins,\n",
    "            mean_median=[False, False],\n",
    "            title_set=True, fonts_sizes=[21, 21, 21, 18],\n",
    "            extension='.png', range=None, \n",
    "            tick_setting=[12, 4.5, 18, 'out'], line_widths = [3, 4.5], legend_pos='upper left')"
   ]
  },
  {
   "cell_type": "code",
   "execution_count": null,
   "metadata": {},
   "outputs": [],
   "source": []
  }
 ],
 "metadata": {
  "kernelspec": {
   "display_name": "Python 3 (ipykernel)",
   "language": "python",
   "name": "python3"
  },
  "language_info": {
   "codemirror_mode": {
    "name": "ipython",
    "version": 3
   },
   "file_extension": ".py",
   "mimetype": "text/x-python",
   "name": "python",
   "nbconvert_exporter": "python",
   "pygments_lexer": "ipython3",
   "version": "3.7.3"
  }
 },
 "nbformat": 4,
 "nbformat_minor": 2
}
