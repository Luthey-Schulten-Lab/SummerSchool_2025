{
 "cells": [
  {
   "cell_type": "markdown",
   "metadata": {},
   "source": [
    "# Tutorial 1.2 - Stochastic Genetic Information Process\n",
    "\n",
    "Here we examine a CME model of stochastic Genetic Information Process.\n",
    "\n",
    "In this model, we include the transcription and translation of gene and mRNA together with degradation of both mRNA and protein.\n",
    "\n",
    "The model presented here can be found in the classic article: [Analytical distributions for stochastic gene expression](https://www.pnas.org/doi/full/10.1073/pnas.0803850105).\n"
   ]
  },
  {
   "cell_type": "code",
   "execution_count": null,
   "metadata": {},
   "outputs": [],
   "source": [
    "# Import Standard Python Libraries\n",
    "import os\n",
    "import numpy as np\n",
    "\n",
    "# Import jLM Libraries\n",
    "import jLM.CME as CME\n",
    "import jLM.units as units\n",
    "import jLM.CMEPostProcessing as PostProcessing\n",
    "\n",
    "# Enable plotting inline in the Jupyter notebook\n",
    "%matplotlib inline"
   ]
  },
  {
   "cell_type": "code",
   "execution_count": null,
   "metadata": {},
   "outputs": [],
   "source": [
    "# Import Standard Python Libraries\n",
    "import os\n",
    "import numpy as np\n",
    "import matplotlib.pyplot as plt\n",
    "\n",
    "# Import pyLM Libraries\n",
    "from pyLM import *\n",
    "from pyLM.units import *\n",
    "from pySTDLM import *\n",
    "from pySTDLM.PostProcessing import *\n",
    "\n",
    "# Enable plotting inline in the Jupyter notebook\n",
    "%matplotlib inline"
   ]
  },
  {
   "cell_type": "markdown",
   "metadata": {},
   "source": [
    "## Constants\n",
    "\n",
    "Rates of reactions come from the [Cell, 2022](https://www.cell.com/cell/fulltext/S0092-8674(21)01488-4?_returnURL=https%3A%2F%2Flinkinghub.elsevier.com%2Fretrieve%2Fpii%2FS0092867421014884%3Fshowall%3Dtrue) paper's Whole Cell Model of DnaA coding gene (G_0001) at initial conditions.\n",
    "\n",
    "Degradation rate of protein is calculated based on 25 hours' half life in [Maier et al, 2011](https://www.embopress.org/doi/full/10.1038/msb.2011.38)."
   ]
  },
  {
   "cell_type": "code",
   "execution_count": null,
   "metadata": {},
   "outputs": [],
   "source": [
    "# Constants\n",
    "k_transcription  = 6.41e-4       # Transcription, s^-1\n",
    "k_degra_mRNA = 2.59e-3     # degradation of mRNA, s^-1\n",
    "k_translation = 7.2e-2        # translation, s^-1\n",
    "k_degra_ptn = 7.70e-6      # degradation of protein, s^-1"
   ]
  },
  {
   "cell_type": "markdown",
   "metadata": {},
   "source": [
    "## Define CME simulation"
   ]
  },
  {
   "cell_type": "code",
   "execution_count": null,
   "metadata": {},
   "outputs": [],
   "source": [
    "# Create our CME simulation object\n",
    "sim = CME.CMESimulation(name='Gene Expression')"
   ]
  },
  {
   "cell_type": "code",
   "execution_count": null,
   "metadata": {},
   "outputs": [],
   "source": [
    "# Define our chemical species\n",
    "species = ['gene', 'mRNA', 'protein']\n",
    "sim.defineSpecies(species)"
   ]
  },
  {
   "cell_type": "code",
   "execution_count": null,
   "metadata": {},
   "outputs": [],
   "source": [
    "# Add reactions to the simulation\n",
    "\n",
    "sim.addReaction(reactant='gene', product=('gene','mRNA'), rate=k_transcription)\n",
    "sim.addReaction(reactant='mRNA', product='', rate=k_degra_mRNA)\n",
    "sim.addReaction(reactant='mRNA', product=('mRNA','protein'), rate=k_translation)\n",
    "sim.addReaction(reactant='protein', product='', rate=k_degra_ptn)\n"
   ]
  },
  {
   "cell_type": "code",
   "execution_count": null,
   "metadata": {},
   "outputs": [],
   "source": [
    "# Set our initial species counts\n",
    "# Initial count of protein as 148 from proteomics\n",
    "sim.addParticles(species='gene', count=1)\n",
    "sim.addParticles(species='mRNA', count=1)\n",
    "sim.addParticles(species='protein', count=148)"
   ]
  },
  {
   "cell_type": "markdown",
   "metadata": {},
   "source": [
    "Finally, we define the simulation execution parameters. We have the simulation run for 6300 seconds of real time to cover the entire cell cyle.\n",
    "\n",
    "The traces are recorded per 1 second.\n",
    "\n",
    "Then we name the simulation output file and save the simulation definition to it."
   ]
  },
  {
   "cell_type": "code",
   "execution_count": null,
   "metadata": {},
   "outputs": [],
   "source": [
    "# Simulation time is 6300 (entire cell life cycle of Minimal Cell).\n",
    "writeInterval = 1\n",
    "simtime = 6300\n",
    "\n",
    "sim.setWriteInterval(writeInterval)\n",
    "sim.setSimulationTime(simtime)\n",
    "\n",
    "filename = \"./T2.1-GeneticInformationProcess.lm\"\n",
    "\n",
    "os.system(\"rm -rf %s\"%(filename)) # Remove previous LM file \n",
    "\n",
    "sim.save(filename)"
   ]
  },
  {
   "cell_type": "code",
   "execution_count": null,
   "metadata": {
    "scrolled": true
   },
   "outputs": [],
   "source": [
    "# Print out the information of the system\n",
    "sim"
   ]
  },
  {
   "cell_type": "markdown",
   "metadata": {},
   "source": [
    "## Run Simulation\n",
    "\n",
    "Change **`reps`** to simulate more cell replicates"
   ]
  },
  {
   "cell_type": "code",
   "execution_count": null,
   "metadata": {
    "scrolled": true
   },
   "outputs": [],
   "source": [
    "# Run multiple replicates using the Gillespie solver\n",
    "reps = 10\n",
    "\n",
    "sim.run(filename=filename, method=\"lm::cme::GillespieDSolver\", replicates=reps)"
   ]
  },
  {
   "cell_type": "markdown",
   "metadata": {},
   "source": [
    "## Post-Processing"
   ]
  },
  {
   "cell_type": "code",
   "execution_count": null,
   "metadata": {},
   "outputs": [],
   "source": [
    "# Import Custom Analysis and Plotting Modules\n",
    "import sys\n",
    "sys.path.append('../analyze_scripts')\n",
    "import custom_plot as plot"
   ]
  },
  {
   "cell_type": "markdown",
   "metadata": {},
   "source": [
    "Go to **`fig_dir`** to see the plots"
   ]
  },
  {
   "cell_type": "code",
   "execution_count": null,
   "metadata": {},
   "outputs": [],
   "source": [
    "# Create folder to store plotted figures\n",
    "fig_dir = './plots_GIP/'\n",
    "\n",
    "if not os.path.exists(fig_dir):\n",
    "    os.mkdir(fig_dir)"
   ]
  },
  {
   "cell_type": "markdown",
   "metadata": {},
   "source": [
    "Serialize traces in LM file to a 3D Numpy Array with dimesions *(time, species, replicates)*."
   ]
  },
  {
   "cell_type": "code",
   "execution_count": null,
   "metadata": {},
   "outputs": [],
   "source": [
    "fileHandle = PostProcessing.openLMFile(filename) # Create h5py file handle\n",
    "timestep = PostProcessing.getTimesteps(fileHandle) # use PostProcessing to get the timesteps of the simulation\n",
    "\n",
    "traces = np.zeros((len(timestep), len(sim.particleMap), reps)) # Initiate 3D array\n",
    "\n",
    "# go to plot python script for detail\n",
    "traces = plot.get_sim_data(traces, reps, filename) # Get 3D array\n",
    "\n",
    "print('The size of the 3D trajectories is {0} with dimensions time, species, and replicates.'.format(np.shape(traces)))"
   ]
  },
  {
   "cell_type": "markdown",
   "metadata": {},
   "source": [
    "**Mean and Variance of mRNA and Protein**"
   ]
  },
  {
   "cell_type": "markdown",
   "metadata": {},
   "source": [
    "Plot the population average and span of mRNA and protein abundances\n",
    "\n",
    "Shaded area is the full span, and the solid line is the population average."
   ]
  },
  {
   "cell_type": "code",
   "execution_count": null,
   "metadata": {},
   "outputs": [],
   "source": [
    "# mRNA and Protein in one plot\n",
    "trace_mRNA = traces[:,1,:] # 2D array\n",
    "trace_ptn = traces[:,2,:] # 2D array\n",
    "\n",
    "time = timestep/60\n",
    "xlabel = 'Time [Min]'\n",
    "title = f'mRNA and Protein in {reps} Replicates'\n",
    "percentile = [0,100] # Full span\n",
    "fig_size = [7, 7]\n",
    "fig_name = f'GIP_mRNA_Protein_{reps}Replicates'\n",
    "\n",
    "left_data = [trace_mRNA]\n",
    "left_colors = ['red']\n",
    "left_ylabel = f'mRNA'\n",
    "left_plots = ['range_avg']\n",
    "left_ylabel_color = 'red'\n",
    "left_legends = len(left_data)*['']\n",
    "\n",
    "right_data = [trace_ptn]\n",
    "right_colors = ['blue']\n",
    "right_ylabel = f'Protein'\n",
    "right_plots = ['range_avg']\n",
    "right_ylabel_color = 'blue'\n",
    "right_legends = len(left_data)*['']\n",
    "\n",
    "plot.plot_time_dualAxes(fig_dir, fig_name, fig_size,\n",
    "            time, xlabel, title, percentile,\n",
    "            left_data, left_legends, left_colors, left_ylabel, left_plots, left_ylabel_color,\n",
    "            right_data, right_legends, right_colors, right_ylabel, right_plots, right_ylabel_color,\n",
    "            xlimit=[0,simtime/60], title_set=True, fonts_sizes=[21, 21, 24, 18],\n",
    "            extension='.png', tick_setting=[12, 4.5, 15, 'out'], line_widths = [3, 4.5], legend_pos='best')"
   ]
  },
  {
   "cell_type": "markdown",
   "metadata": {},
   "source": [
    "**mRNA and protein in each single cell replicate individually**\n",
    "\n",
    "The genetic information process occurrs in each single cell replicate. Now, let's look at the protein synthesis at single-cell level. You will an increase/burst in protein count when there are mRNAs and the halting when no mRNA.\n",
    "\n",
    "Change **`rep`** to see different pattern of stochastic protein synthesis along the cell cycle."
   ]
  },
  {
   "cell_type": "code",
   "execution_count": null,
   "metadata": {},
   "outputs": [],
   "source": [
    "# mRNA and Protein in one plot\n",
    "rep = 1 # Choose cell replicate `rep`\n",
    "trace_mRNA = traces[:,1,:] # 2D array\n",
    "trace_ptn = traces[:,2,:] # 2D array\n",
    "\n",
    "time = timestep/60\n",
    "xlabel = 'Time [Min]'\n",
    "title = f'mRNA and Protein in Cell {rep}'\n",
    "percentile = [0,100] # Full span\n",
    "fig_size = [7, 7]\n",
    "fig_name = f'GIP_mRNA_Protein_Cell{rep}'\n",
    "\n",
    "left_data = [trace_mRNA[:,rep-1]]\n",
    "left_colors = ['red']\n",
    "left_ylabel = f'mRNA'\n",
    "left_plots = ['single']\n",
    "left_ylabel_color = 'red'\n",
    "left_legends = len(left_data)*['']\n",
    "\n",
    "right_data = [trace_ptn[:,rep-1]]\n",
    "right_colors = ['blue']\n",
    "right_ylabel = f'Protein'\n",
    "right_plots = ['single']\n",
    "right_ylabel_color = 'blue'\n",
    "right_legends = len(left_data)*['']\n",
    "\n",
    "plot.plot_time_dualAxes(fig_dir, fig_name, fig_size,\n",
    "            time, xlabel, title, percentile,\n",
    "            left_data, left_legends, left_colors, left_ylabel, left_plots, left_ylabel_color,\n",
    "            right_data, right_legends, right_colors, right_ylabel, right_plots, right_ylabel_color,\n",
    "            xlimit=[0,simtime/60], title_set=True, fonts_sizes=[21, 21, 24, 18],\n",
    "            extension='.png', tick_setting=[12, 4.5, 15, 'out'], line_widths = [3, 4.5], legend_pos='best')"
   ]
  },
  {
   "cell_type": "markdown",
   "metadata": {},
   "source": [
    "**Distribution of Protein at the end of the cell cycle**\n",
    "\n",
    "Increase the **`reps`** from 10 to 100 after restart the kernel, and redo the histogram"
   ]
  },
  {
   "cell_type": "code",
   "execution_count": null,
   "metadata": {
    "scrolled": true
   },
   "outputs": [],
   "source": [
    "# Protein Distribution\n",
    "ptn_endcycle = trace_ptn[-1,:] # 1D array\n",
    "\n",
    "fig_size=[7, 7]\n",
    "fig_name=f'GIP_Proteins_CycleEnd_{reps}replicates'\n",
    "data_list=[ptn_endcycle]\n",
    "legends=['']\n",
    "colors = ['blue']\n",
    "xlabel='Protein Counts at Cycle End'\n",
    "ylabel='Cells'\n",
    "title=f'Proteins Distribution in {reps} Replicates'\n",
    "bins=min(int(reps/2), 10)\n",
    "\n",
    "plot.plot_hists(fig_dir, fig_name, fig_size,\n",
    "            data_list, legends, colors, xlabel, ylabel, title, bins,\n",
    "            mean_median=[False, False],\n",
    "            title_set=True, fonts_sizes=[21, 21, 21, 18],\n",
    "            extension='.png', range=None, \n",
    "            tick_setting=[12, 4.5, 18, 'out'], line_widths = [3, 4.5], legend_pos='upper left')"
   ]
  },
  {
   "cell_type": "code",
   "execution_count": null,
   "metadata": {},
   "outputs": [],
   "source": []
  }
 ],
 "metadata": {
  "kernelspec": {
   "display_name": "Python 3 (ipykernel)",
   "language": "python",
   "name": "python3"
  },
  "language_info": {
   "codemirror_mode": {
    "name": "ipython",
    "version": 3
   },
   "file_extension": ".py",
   "mimetype": "text/x-python",
   "name": "python",
   "nbconvert_exporter": "python",
   "pygments_lexer": "ipython3",
   "version": "3.7.3"
  }
 },
 "nbformat": 4,
 "nbformat_minor": 2
}
