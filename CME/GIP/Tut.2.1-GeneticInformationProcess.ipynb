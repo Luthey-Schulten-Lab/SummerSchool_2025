{
 "cells": [
  {
   "cell_type": "markdown",
   "metadata": {},
   "source": [
    "# Tutorial 1.2 - Stochastic Genetic Information Process\n",
    "\n",
    "Here we examine a CME model of stochastic Genetic Information Process.\n",
    "\n",
    "In this model, we include the transcription and translation of gene and mRNA together with degradation of both mRNA and protein.\n",
    "\n",
    "The model presented here can be found in the article: [Analytical distributions for stochastic gene expression](https://www.pnas.org/doi/full/10.1073/pnas.0803850105).\n"
   ]
  },
  {
   "cell_type": "code",
   "execution_count": null,
   "metadata": {},
   "outputs": [],
   "source": [
    "# Import Standard Python Libraries\n",
    "import os\n",
    "import numpy as np\n",
    "import matplotlib.pyplot as plt\n",
    "\n",
    "# Import pyLM Libraries\n",
    "from pyLM import *\n",
    "from pyLM.units import *\n",
    "from pySTDLM import *\n",
    "from pySTDLM.PostProcessing import *\n",
    "\n",
    "# Enable plotting inline in the Jupyter notebook\n",
    "%matplotlib inline"
   ]
  },
  {
   "cell_type": "markdown",
   "metadata": {},
   "source": [
    "## Constants\n",
    "\n",
    "Rates of reactions come from the [cell](https://www.cell.com/cell/fulltext/S0092-8674(21)01488-4?_returnURL=https%3A%2F%2Flinkinghub.elsevier.com%2Fretrieve%2Fpii%2FS0092867421014884%3Fshowall%3Dtrue) paper's Whole Cell Model of DnaA coding gene (G_0001) at initial conditions.\n",
    "\n",
    "Degradation rate of protein is calculated based on 25 hours' half life in [Maier et al, 2011](https://www.embopress.org/doi/full/10.1038/msb.2011.38)."
   ]
  },
  {
   "cell_type": "code",
   "execution_count": null,
   "metadata": {},
   "outputs": [],
   "source": [
    "# Constants\n",
    "k_transcription  = 6.41e-4       # Transcription, s^-1\n",
    "k_degra_mRNA = 2.59e-3     # degradation of mRNA, s^-1\n",
    "k_translation = 7.2e-2        # translation, s^-1\n",
    "k_degra_ptn = 7.70e-6      # degradation of protein, s^-1"
   ]
  },
  {
   "cell_type": "markdown",
   "metadata": {},
   "source": [
    "## Define CME simulation"
   ]
  },
  {
   "cell_type": "markdown",
   "metadata": {},
   "source": [
    "We begin by creating a [CMESimulation](https://luthey-schulten.chemistry.illinois.edu/software/LM2.4/_autosummary/pyLM.CME.html#module-pyLM.CME) \"object\" that we call ```sim```. This object will include the definition of the whole stochastic simulation."
   ]
  },
  {
   "cell_type": "code",
   "execution_count": null,
   "metadata": {},
   "outputs": [],
   "source": [
    "# Create our CME simulation object\n",
    "sim = CME.CMESimulation(name='Gene Expression')"
   ]
  },
  {
   "cell_type": "markdown",
   "metadata": {},
   "source": [
    "Next we define the chemical species with simulation. First. we specify the names of the chemical species.  Then we register these species with the simulation.  The [```defineSpecies()```](https://luthey-schulten.chemistry.illinois.edu/software/LM2.4/_autosummary/pyLM.CME.html#module-pyLM.CME) function can be called multiple times and will add any new names to the list of species."
   ]
  },
  {
   "cell_type": "code",
   "execution_count": null,
   "metadata": {},
   "outputs": [],
   "source": [
    "# Define our chemical species\n",
    "species = ['gene', 'mRNA', 'ptn']\n",
    "sim.defineSpecies(species)"
   ]
  },
  {
   "cell_type": "markdown",
   "metadata": {},
   "source": [
    "Here we add reactions to the simulation. We use the [```addReaction()```](https://luthey-schulten.chemistry.illinois.edu/software/LM2.4/_autosummary/pyLM.CME.html#module-pyLM.CME) function that is a member of the ```CMESimulation``` object. We add a bimolecular association reaction and a unimolecular dissociation reaction. When more than one reactant is involved, the list of reactant names should be passed as a tuple as can be seen in the reactant of the association reaction. The rates in this command must be in units of molecules and seconds, for instance units of ```/molecule/sec``` for the association reaction."
   ]
  },
  {
   "cell_type": "code",
   "execution_count": null,
   "metadata": {},
   "outputs": [],
   "source": [
    "# Add reactions to the simulation\n",
    "\n",
    "sim.addReaction(reactant='gene', product=('gene','mRNA'), rate=k_transcription)\n",
    "sim.addReaction(reactant='mRNA', product='', rate=k_degra_mRNA)\n",
    "sim.addReaction(reactant='mRNA', product=('mRNA','ptn'), rate=k_translation)\n",
    "sim.addReaction(reactant='ptn', product='', rate=k_degra_ptn)\n"
   ]
  },
  {
   "cell_type": "markdown",
   "metadata": {},
   "source": [
    "Next, we add the initial particle counts to the simulation using the [```addParticles()```](https://luthey-schulten.chemistry.illinois.edu/software/LM2.4/_autosummary/pyLM.CME.html#module-pyLM.CME) function."
   ]
  },
  {
   "cell_type": "code",
   "execution_count": null,
   "metadata": {},
   "outputs": [],
   "source": [
    "# Set our initial species counts\n",
    "\n",
    "sim.addParticles(species='gene', count=1)\n",
    "sim.addParticles(species='mRNA', count=1)\n",
    "sim.addParticles(species='ptn', count=0)"
   ]
  },
  {
   "cell_type": "markdown",
   "metadata": {},
   "source": [
    "Finally, we define the simulation execution parameters. We have the simulation run for 6300 seconds of real time to cover the entire cell cyle.\n",
    "\n",
    "The traces are recorded per 1 second.\n",
    "\n",
    "Then we name the simulation output file and save the simulation definition to it."
   ]
  },
  {
   "cell_type": "code",
   "execution_count": null,
   "metadata": {},
   "outputs": [],
   "source": [
    "# Simulation time is 6300 (entire cell life cycle of Minimal Cell).\n",
    "writeInterval = 1\n",
    "simtime = 6300\n",
    "\n",
    "sim.setWriteInterval(writeInterval)\n",
    "sim.setSimulationTime(simtime)\n",
    "\n",
    "filename = \"./T2.1-GeneticInformationProcess.lm\"\n",
    "\n",
    "os.system(\"rm -rf %s\"%(filename)) # Remove previous LM file \n",
    "\n",
    "sim.save(filename)"
   ]
  },
  {
   "cell_type": "code",
   "execution_count": null,
   "metadata": {
    "scrolled": true
   },
   "outputs": [],
   "source": [
    "# Print out the information of the system\n",
    "sim"
   ]
  },
  {
   "cell_type": "markdown",
   "metadata": {},
   "source": [
    "## Run Simulation"
   ]
  },
  {
   "cell_type": "code",
   "execution_count": null,
   "metadata": {
    "scrolled": true
   },
   "outputs": [],
   "source": [
    "# Run multiple replicates using the Gillespie solver\n",
    "reps = 10\n",
    "\n",
    "sim.run(filename=filename, method=\"lm::cme::GillespieDSolver\", replicates=reps)"
   ]
  },
  {
   "cell_type": "markdown",
   "metadata": {},
   "source": [
    "## Post-Processing"
   ]
  },
  {
   "cell_type": "markdown",
   "metadata": {},
   "source": [
    "Create Picture Folder"
   ]
  },
  {
   "cell_type": "code",
   "execution_count": null,
   "metadata": {},
   "outputs": [],
   "source": [
    "plotfolder = './plots_GeneticInformationProcess/'\n",
    "\n",
    "if not os.path.exists(plotfolder):\n",
    "    os.mkdir(plotfolder)"
   ]
  },
  {
   "cell_type": "markdown",
   "metadata": {},
   "source": [
    "#### Serialize traces in LM file to a 3D Numpy Array with dimesions *(time, species, replicates)*."
   ]
  },
  {
   "cell_type": "code",
   "execution_count": null,
   "metadata": {},
   "outputs": [],
   "source": [
    "import plot as plot\n",
    "\n",
    "fileHandle = PostProcessing.openLMFile(filename) # Create h5py file handle\n",
    "timestep = PostProcessing.getTimesteps(fileHandle) # use PostProcessing to get the timesteps of the simulation\n",
    "\n",
    "traces = np.zeros((len(timestep), len(sim.particleMap), reps)) # Initiate 3D array\n",
    "\n",
    "# go to plot python script for detail\n",
    "traces = plot.get_sim_data(traces, reps, filename) # Get 3D array\n",
    "\n",
    "print('The size of the 3D trajectories is {0} with dimensions time, species, and replicates.'.format(np.shape(traces)))"
   ]
  },
  {
   "cell_type": "markdown",
   "metadata": {},
   "source": [
    "Plot the Trace of mRNA and protein in Single replicate individually\n",
    "\n",
    "You need to compare the traces of mRNA (e.g. mRNA_replicate_1) and protein (e.g. ptn_replicate_1) in the same single replicate. You will an increase/burst in protein count when there are mRNA and the protein count holds or gradually decrease when no mRNA."
   ]
  },
  {
   "cell_type": "code",
   "execution_count": null,
   "metadata": {},
   "outputs": [],
   "source": [
    "legends = ['mRNA']\n",
    "for rep_mRNA in range(1, 10+1): # Plot only the first 10\n",
    "    mRNA_singlereplicate = traces[:,1,rep_mRNA-1]  # Slice single replicate from the 3D array  \n",
    "    mRNA_singlereplicate = mRNA_singlereplicate[:, np.newaxis] # Change shape from (n,) to (n,1)\n",
    "    fig_path = './plots_GeneticInformationProcess/{0}_replicate{1}.png'.format(legends[0], rep_mRNA)\n",
    "    ylabel = 'Count'; title = 'Trace of {0} in Replicate {1} '.format(legends[0], rep_mRNA)\n",
    "\n",
    "    plot.plot_traces(timestep, mRNA_singlereplicate, legends, fig_path, ylabel, title)\n",
    "\n",
    "\n",
    "legends = ['protein']\n",
    "for rep_ptn in range(1, 10+1): # Plot only the first 10\n",
    "\n",
    "    ptn_singlereplicate = traces[:,2,rep_ptn-1]\n",
    "    ptn_singlereplicate = ptn_singlereplicate[:, np.newaxis]\n",
    "\n",
    "    fig_path = './plots_GeneticInformationProcess/{0}_replicate{1}.png'.format(legends[0], rep_ptn)\n",
    "    ylabel = 'Count'; title = 'Trace of {0} in Replicate {1} '.format(legends[0], rep_ptn)\n",
    "\n",
    "    plot.plot_traces(timestep, ptn_singlereplicate, legends, fig_path, ylabel, title)"
   ]
  },
  {
   "cell_type": "markdown",
   "metadata": {},
   "source": [
    "Plot the min, max and ensemble average of mRNA and protein"
   ]
  },
  {
   "cell_type": "code",
   "execution_count": null,
   "metadata": {},
   "outputs": [],
   "source": [
    "# mRNA\n",
    "trace_mRNA = traces[:,1,:]\n",
    "specie = 'mRNA'\n",
    "fig_path = './plots_GeneticInformationProcess/minmaxavg_{0}_{1}replicates.png'.format(specie, reps)\n",
    "ylabel = 'Count'; title = 'Trace of {0} Among {1} replicates'.format(specie, reps)\n",
    "plot.plot_min_max_avg(timestep, trace_mRNA, fig_path, ylabel, title)\n",
    "\n",
    "# protein\n",
    "trace_ptn = traces[:,2,:]\n",
    "specie = 'protein'\n",
    "fig_path = './plots_GeneticInformationProcess/minmaxavg_{0}_{1}replicates.png'.format(specie, reps)\n",
    "ylabel = 'Count'; title = 'Trace of {0} Among {1} replicates'.format(specie, reps)\n",
    "plot.plot_min_max_avg(timestep, trace_ptn, fig_path, ylabel, title)"
   ]
  },
  {
   "cell_type": "markdown",
   "metadata": {},
   "source": [
    "#### Plot the distribution of Protein at the end of the simulation\n",
    "\n",
    "Go to *fig_path* to see the plots"
   ]
  },
  {
   "cell_type": "code",
   "execution_count": null,
   "metadata": {
    "scrolled": true
   },
   "outputs": [],
   "source": [
    "# Protein Distribution\n",
    "ptns_end = traces[-1,2,:] # Slice Numpy array to get the counts of ptn at the end of the whole cell cycle\n",
    "fig_path = plotfolder + 'Distribution_Ptns_at_{0}_seconds_{1}replicates.png'.format(simtime, reps)\n",
    "xlabel = 'Counts of Protein [#]'\n",
    "title = 'Distribution of Ptn Counts at {0} seconds {1} replicates'.format(simtime, reps)\n",
    "plot.plot_histogram(data=ptns_end, figure_path=fig_path, bins=20, xlabel=xlabel, title=title)\n",
    "\n",
    "# mRNA Distribution\n",
    "mRNAs_end = traces[-1,1,:] # Slice Numpy array to get the counts of ptn at the end of the whole cell cycle\n",
    "fig_path = plotfolder + 'Distribution_mRNA_at_{0}_seconds_{1}replicates.png'.format(simtime, reps)\n",
    "xlabel = 'Counts of mRNA [#]'\n",
    "title = 'Distribution of mRNA Counts at {0} seconds {1} replicates'.format(simtime, reps)\n",
    "plot.plot_histogram(data=mRNAs_end, figure_path=fig_path, bins=5, xlabel=xlabel, title=title)"
   ]
  },
  {
   "cell_type": "markdown",
   "metadata": {},
   "source": [
    "## Discussion 2\n",
    "\n",
    "1. Do mRNA and protein reach steady-state during the 6300 seconds' simulation? How can you tell this from the plots? Try to increase the replicates numbers reps from 10 to 100 to make your analysis more statitically realistic.\n",
    "\n",
    "2. The initial count of protein P\\_0001/DnaA from experimental proteomics data is 148. Compare the mean count of protein at the end of the cell cycle to this experimental count. Does the simulation roughly generate 148 proteins during the entire cell cycle? And why this is important? Please consider cell division."
   ]
  }
 ],
 "metadata": {
  "kernelspec": {
   "display_name": "Python 3 (ipykernel)",
   "language": "python",
   "name": "python3"
  },
  "language_info": {
   "codemirror_mode": {
    "name": "ipython",
    "version": 3
   },
   "file_extension": ".py",
   "mimetype": "text/x-python",
   "name": "python",
   "nbconvert_exporter": "python",
   "pygments_lexer": "ipython3",
   "version": "3.7.3"
  }
 },
 "nbformat": 4,
 "nbformat_minor": 2
}
