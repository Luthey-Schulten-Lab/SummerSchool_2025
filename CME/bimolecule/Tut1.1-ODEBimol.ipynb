{
 "cells": [
  {
   "cell_type": "markdown",
   "metadata": {},
   "source": [
    "# Tutorial 1.1 - ODE Solution of a Bimolecular Reaction\n",
    "\n",
    "### We start off by examining a simple bimolecular reaction system considering the traditional continuous, deterministic solution to the ODE."
   ]
  },
  {
   "cell_type": "code",
   "execution_count": null,
   "metadata": {
    "ExecuteTime": {
     "end_time": "2016-06-21T14:24:03.834992",
     "start_time": "2016-06-21T14:24:03.531735"
    }
   },
   "outputs": [],
   "source": [
    "# Import Standard Python Libraries\n",
    "import numpy as np\n",
    "import scipy.integrate as spi\n",
    "import matplotlib.pyplot as plt\n",
    "%matplotlib inline\n",
    "import os"
   ]
  },
  {
   "cell_type": "code",
   "execution_count": null,
   "metadata": {},
   "outputs": [],
   "source": [
    "# Import Custom Analysis and Plotting Modules\n",
    "import sys\n",
    "sys.path.append('../analyze_scripts')\n",
    "import custom_plot as plot"
   ]
  },
  {
   "cell_type": "code",
   "execution_count": null,
   "metadata": {
    "ExecuteTime": {
     "end_time": "2016-06-21T14:24:04.026057",
     "start_time": "2016-06-21T14:24:04.022843"
    }
   },
   "outputs": [],
   "source": [
    "# Constants\n",
    "V  = 1.0e-15    # L\n",
    "NA = 6.022e23   # molecules/mole\n",
    "tstart =  0.0   # s\n",
    "tend   = 30.0   # s"
   ]
  },
  {
   "cell_type": "code",
   "execution_count": null,
   "metadata": {
    "ExecuteTime": {
     "end_time": "2016-06-21T14:24:04.576183",
     "start_time": "2016-06-21T14:24:04.573110"
    },
    "code_folding": []
   },
   "outputs": [],
   "source": [
    "# Rates in terms of molecules and seconds\n",
    "fold = 10 # multiply the rate constant by fold\n",
    "kf=1.07e6 *fold  # /Molar/s\n",
    "kr=0.351  *fold  # /s"
   ]
  },
  {
   "cell_type": "code",
   "execution_count": null,
   "metadata": {
    "ExecuteTime": {
     "end_time": "2016-06-21T14:24:05.030792",
     "start_time": "2016-06-21T14:24:05.025681"
    }
   },
   "outputs": [],
   "source": [
    "# Initial Species Concentrations\n",
    "A  = 50/(NA*V) # Molar\n",
    "B  = 50/(NA*V) # Molar\n",
    "C  = 0/(NA*V)    # Molar\n",
    "S0 = [A, B, C]"
   ]
  },
  {
   "cell_type": "markdown",
   "metadata": {},
   "source": [
    "<h2> Reaction System </h2>\n",
    "<h3> Reaction Form </h3>\n",
    "<br/>\n",
    "\n",
    "$$\n",
    "A + B \\xrightarrow{k_f} C\n",
    "$$\n",
    "\n",
    "$$\n",
    "C \\xrightarrow{k_r} A + B\n",
    "$$\n",
    "\n",
    "\n",
    "<h3> Rate Form </h3>\n",
    "<br/>\n",
    "\n",
    "$$\n",
    "\\frac{dA}{dt} = \\frac{dB}{dt} = -\\frac{dC}{dt} = -k_f\\cdot  A\\cdot B + k_r\\cdot  C\n",
    "$$"
   ]
  },
  {
   "cell_type": "code",
   "execution_count": null,
   "metadata": {
    "ExecuteTime": {
     "end_time": "2016-06-21T14:24:05.749673",
     "start_time": "2016-06-21T14:24:05.743874"
    }
   },
   "outputs": [],
   "source": [
    "# Definition of ODEs\n",
    "def ds_dt(s, t):\n",
    "    Ai = s[0]\n",
    "    Bi = s[1]\n",
    "    Ci = s[2]\n",
    "    # Rate equations\n",
    "    dA_dt = -kf*Ai*Bi + kr*Ci\n",
    "    dB_dt = -kf*Ai*Bi + kr*Ci\n",
    "    dC_dt =  kf*Ai*Bi - kr*Ci\n",
    "    return [dA_dt, dB_dt, dC_dt]"
   ]
  },
  {
   "cell_type": "markdown",
   "metadata": {},
   "source": [
    "## Solve using SciPy ODE Integrator\n",
    "    \n",
    "See the [Scipy Documentation](https://docs.scipy.org/doc/scipy/reference/generated/scipy.integrate.odeint.html)"
   ]
  },
  {
   "cell_type": "code",
   "execution_count": null,
   "metadata": {
    "ExecuteTime": {
     "end_time": "2016-06-21T14:24:06.519538",
     "start_time": "2016-06-21T14:24:06.437748"
    }
   },
   "outputs": [],
   "source": [
    "# Solve\n",
    "t    = np.linspace(tstart, tend, 1000000)\n",
    "soln = spi.odeint(ds_dt, S0, t)"
   ]
  },
  {
   "cell_type": "markdown",
   "metadata": {},
   "source": [
    "### Plot the Count\n",
    "\n",
    "Import user written python scripts `../analyze_scripts/custom_plot.py` for more beautiful plots. Function `plot_time_ranges` plots the time-depedent traces with showing the average and span. If you are curious about plotting with Matplotlib, see the [Matplotlib Documentation](https://matplotlib.org/stable/api/pyplot_summary.html)"
   ]
  },
  {
   "cell_type": "code",
   "execution_count": null,
   "metadata": {},
   "outputs": [],
   "source": [
    "# Create folder to store plotted figures\n",
    "fig_dir = './plots_bimolecule/'\n",
    "\n",
    "if not os.path.exists(fig_dir):\n",
    "    os.mkdir(fig_dir)"
   ]
  },
  {
   "cell_type": "markdown",
   "metadata": {},
   "source": [
    "Please go to `fig_dir` in the web server to see the figure"
   ]
  },
  {
   "cell_type": "code",
   "execution_count": null,
   "metadata": {},
   "outputs": [],
   "source": [
    "#fig_path = fig_dir + fig_name + extension\n",
    "\n",
    "fig_name = 'bimolecule_ODE_{0}foldrate'.format(fold)\n",
    "fig_size = [7, 7] # Length by Height in inches\n",
    "time = t\n",
    "data_list=[NA*V*soln[:,0:1], NA*V*soln[:,1:2], NA*V*soln[:,2:3]]\n",
    "legends = ['A','B','C']\n",
    "colors = ['red', 'blue', 'green']\n",
    "xlabel='Time [s]'\n",
    "ylabel='Count'\n",
    "title='Bimolecule Sovled by ODE'\n",
    "percentile = [0,100]\n",
    "\n",
    "plot.plot_time_ranges(fig_dir, fig_name, fig_size,\n",
    "               time, data_list, legends, colors, xlabel, ylabel, title,\n",
    "               percentile, plot_avg=True, plot_range=False, xlimit=[tstart, tend],\n",
    "               title_set=True, fonts_sizes=[21, 21, 24, 18],\n",
    "               extension='.png', tick_setting=[12.0, 4.5, 15, 'out'],  line_widths = [3,4.5],\n",
    "               legend_pos='best')"
   ]
  },
  {
   "cell_type": "code",
   "execution_count": null,
   "metadata": {},
   "outputs": [],
   "source": []
  }
 ],
 "metadata": {
  "kernelspec": {
   "display_name": "Python 3 (ipykernel)",
   "language": "python",
   "name": "python3"
  },
  "language_info": {
   "codemirror_mode": {
    "name": "ipython",
    "version": 3
   },
   "file_extension": ".py",
   "mimetype": "text/x-python",
   "name": "python",
   "nbconvert_exporter": "python",
   "pygments_lexer": "ipython3",
   "version": "3.7.3"
  },
  "toc": {
   "toc_cell": false,
   "toc_number_sections": true,
   "toc_threshold": 6,
   "toc_window_display": false
  }
 },
 "nbformat": 4,
 "nbformat_minor": 1
}
