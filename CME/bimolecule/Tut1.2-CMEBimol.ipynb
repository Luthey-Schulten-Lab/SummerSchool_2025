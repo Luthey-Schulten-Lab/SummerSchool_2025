{
 "cells": [
  {
   "cell_type": "markdown",
   "metadata": {},
   "source": [
    "# Tutorial 1.2 - CME Solution of a Bimolecular Reaction\n",
    "\n",
    "## Here we examine a stochastic version of Tutorial 1.1 using Chemical Master Equation.\n",
    "\n",
    "We use `jLM` to construct the CME system.\n",
    "\n",
    "We need to import several libraries.  The first is [`jLM.CME`](https://forxhunter.github.io/LM2.5_doc/_autosummary/jLM.CME.html#module-jLM.CME).  The second [`jLM.units`](https://forxhunter.github.io/LM2.5_doc/_autosummary/jLM.units.html#module-jLM.units) is a library to convert number with given units, such as *nm()*, *micron()*, *ms()*, *microsecond()*, etc.  Finally, we import the [`jLM.CMEPostProcessing`](https://forxhunter.github.io/LM2.5_doc/_autosummary/jLM.CMEPostProcessing.html#module-jLM.CMEPostProcessing) standard library, which contains functionality used in biological simulations and post-processing commands including get traces and plotting."
   ]
  },
  {
   "cell_type": "code",
   "execution_count": 1,
   "metadata": {
    "ExecuteTime": {
     "end_time": "2016-06-21T14:49:14.918669",
     "start_time": "2016-06-21T14:49:14.425169"
    }
   },
   "outputs": [
    {
     "data": {
      "text/html": [
       "<style>\n",
       "table.fullWidth {\n",
       "    width: 100%;\n",
       "}\n",
       "\n",
       "table.jLMtbl {\n",
       "    border: 1px solid #000;\n",
       "}\n",
       "\n",
       ".jLMtbl td, .jLMtbl tr, .jLMtbl th, .diffTbl table, .diffTbl td, .diffTbl tr {\n",
       "    border: 0px;\n",
       "}\n",
       "\n",
       ".jLMtbl caption, .diffTbl caption {\n",
       "    font-size: 1.5em;\n",
       "    font-weight: bold;\n",
       "    color: #555;\n",
       "    text-align: left;\n",
       "    padding: 15px 10px 8px 10px;\n",
       "}\n",
       "\n",
       ".jLMtbl td, .jLMtbl th {\n",
       "    padding-left: 10px;\n",
       "    padding-right: 10px;\n",
       "}\n",
       "\n",
       ".jLMtbl tr:nth-child(even) { background: #ddd;  }\n",
       ".jLMtbl tr:nth-child(odd) { background: #f8f8f8;  }\n",
       "\n",
       "table.diffTbl {\n",
       "    border: 0px;\n",
       "}\n",
       "\n",
       "td.noWrap {\n",
       "    white-space:nowrap;\n",
       "}\n",
       "\n",
       ".diffTbl span.rot {\n",
       "    -webkit-transform: rotate(-90deg);\n",
       "    transform: rotate(-90deg);\n",
       "    display: inline-block;\n",
       "    white-space: nowrap;\n",
       "}\n",
       "\n",
       ".diffTbl td[rowspan], .diffTbl td[colspan] {\n",
       "    background: #fff;\n",
       "    font-weight: bold;\n",
       "}\n",
       "\n",
       ".diffTbl td[rowspan] {\n",
       "    width: 0.01em;\n",
       "    padding: 0em 0.2em;\n",
       "}\n",
       "\n",
       ".diffTbl td {\n",
       "    padding-left: 2px;\n",
       "    padding-right: 2px;\n",
       "    text-align: center;\n",
       "    vertical-align: middle;\n",
       "    background-color: hsla(0,0%,90%,1);\n",
       "    color: #000;\n",
       "}\n",
       "\n",
       "\n",
       ".diffTbl td.rhdr {\n",
       "    text-align: right;\n",
       "    background: #555;\n",
       "    color: #fff;\n",
       "}\n",
       "\n",
       ".diffTbl td.units {\n",
       "    background: #fff;\n",
       "    color: #000;\n",
       "}\n",
       "\n",
       ".diffTbl td.chdr {\n",
       "    padding-left: 2px;\n",
       "    padding-right: 2px;\n",
       "    text-align: center;\n",
       "    background: #555;\n",
       "    color: #fff;\n",
       "}\n",
       "\n",
       ".diffTbl td.zero {\n",
       "    background-color: hsla(180,100%,90%,1);\n",
       "}\n",
       "\n",
       ".diffTbl td.inf {\n",
       "    background-color: hsla(0,100%,90%,1);\n",
       "}\n",
       "\n",
       ".diffTbl td.undef {\n",
       "    background-color: #f00;\n",
       "    color: #fff;\n",
       "}\n",
       "\n",
       "\n",
       ".jLMtbl th {\n",
       "    border: 0px;\n",
       "    background: #555;\n",
       "    color: #fff;\n",
       "}\n",
       "\n",
       ".jLMtbl th[scope=col] {\n",
       "    height: 40px;\n",
       "    text-align: center;\n",
       "    vertical-align: middle;\n",
       "}\n",
       "\n",
       ".jLMtbl th[scope=row] {\n",
       "    text-align: left;\n",
       "}\n",
       "\n",
       "td.jLMparam{\n",
       "    width: 250px;\n",
       "    text-align: right;\n",
       "    padding-right: 15px;\n",
       "}\n",
       "\n",
       "\n",
       "td.rxnCol {\n",
       "    text-align: center;\n",
       "    width: 333px;\n",
       "}\n",
       "\n",
       "td.objIndex {\n",
       "    width: 15px;\n",
       "    text-align:center;\n",
       "    vertical-align:middle;\n",
       "}\n",
       "\n",
       "\n",
       "div.jLMflex {\n",
       "    width: 100%;\n",
       "    display: flex;\n",
       "    margin:0;\n",
       "}\n",
       "\n",
       "div.regRight, div.trajRight {\n",
       "    flex-grow: 1;\n",
       "}\n",
       "\n",
       "div.trajRight {\n",
       "    padding-top: 20px;\n",
       "}\n",
       "\n",
       "div.regLeft {\n",
       "    width:200px;\n",
       "}\n",
       "\n",
       "div.trajLeft {\n",
       "    width:400px;\n",
       "}\n",
       "\n",
       "div.jLMx3Dkey {\n",
       "    display: block;\n",
       "    position: absolute;\n",
       "    background-color: rgba(255,255,255,0.8);\n",
       "    top: 3px;\n",
       "    right: 3px;\n",
       "    width: 225px;\n",
       "    max-height: 600px;\n",
       "    overflow-x: hidden;\n",
       "    overflow-y: auto;\n",
       "    border: 1px solid #000;\n",
       "    padding: 0px;\n",
       "} \n",
       "\n",
       "div.jLMx3Dstandalone {\n",
       "    height: 100vh;\n",
       "    width: 100vw;\n",
       "    overflow: hidden;\n",
       "}\n",
       "\n",
       "div.jLMx3Dkeymin {\n",
       "    width: auto;\n",
       "    height: auto;\n",
       "    display: none;\n",
       "    border: 0px;\n",
       "    overflow: hidden;\n",
       "}\n",
       "\n",
       "div.jLMx3Dkeyhelp {\n",
       "    display: none;\n",
       "    position: absolute;\n",
       "    background-color: rgba(255,255,255,0.8);\n",
       "    bottom: 2px;\n",
       "    right: 300px;\n",
       "    width: 400px;\n",
       "    max-height: 600px;\n",
       "    overflow-x: hidden;\n",
       "    overflow-y: auto;\n",
       "    border: 1px solid #000;\n",
       "    padding: 10px;\n",
       "}\n",
       "\n",
       "div.jLMx3Dkeyhelpstandalone {\n",
       "    display: none;\n",
       "    position: absolute;\n",
       "    background-color: rgba(255,255,255,0.8);\n",
       "    top: 10px;\n",
       "    left: 10px;\n",
       "    width: 400px;\n",
       "    max-height: 95%;\n",
       "    overflow-x: hidden;\n",
       "    overflow-y: auto;\n",
       "    border: 1px solid #000;\n",
       "    padding: 10px;\n",
       "}\n",
       "\n",
       "button.jLMx3Dkey {\n",
       "    float: left;\n",
       "    margin: 0px;\n",
       "    -webkit-transition-duration: 0.4s;\n",
       "    transition-duration: 0.4s;\n",
       "    background-color: #def1f0;\n",
       "    padding: 10px 5px;\n",
       "    border: 1px solid #fff;\n",
       "    width: 33%;\n",
       "}\n",
       "\n",
       "button.jLMx3Dkey:hover {\n",
       "    background-color: #108e88;\n",
       "    color: #fff;\n",
       "}\n",
       "\n",
       "button.jLMx3dbtstandalone {\n",
       "    display: table-cell;\n",
       "    width: 50%;\n",
       "}\n",
       "button.jLMx3dbt {\n",
       "    display: table-cell;\n",
       "}\n",
       "\n",
       "div.jLMx3dbt {\n",
       "    display: table;\n",
       "    width: 225px;\n",
       "}\n",
       "\n",
       "\n",
       "ul.reg {\n",
       "    list-style-type: none;\n",
       "    width: 100%;\n",
       "}\n",
       "\n",
       "img.smallreg {\n",
       "    border:1px solid #000;\n",
       "    float: left;\n",
       "    image-rendering: -moz-crisp-edges;\n",
       "    image-rendering: -o-crisp-edges;\n",
       "    image-rendering: -webkit-optimize-contrast;\n",
       "    -ms-interpolation-mode: nearest-neighbor;\n",
       "    image-rendering: pixelated;\n",
       "}\n",
       "\n",
       "X3D.jLM {\n",
       "    width: 100%;\n",
       "    height: 90%;\n",
       "    border: 0px;\n",
       "}\n",
       "\n",
       "span.jLMparticleKey {\n",
       "    position: relative;\n",
       "    top: 3px;\n",
       "    font-size: 1.5em;\n",
       "}\n",
       "\n",
       "div.jLMbigSps {\n",
       "    font-family: serif;\n",
       "    background: #fff;\n",
       "    color: #000;\n",
       "    display: table-cell;\n",
       "    vertical-align: middle;\n",
       "    text-align: center;\n",
       "    height: 70px;\n",
       "    font-size: 3.2em;\n",
       "    padding: 40px 10px 10px 10px;\n",
       "    border: 0px;\n",
       "}\n",
       "\n",
       "input[type=range][orient=vertical].stackSlider {\n",
       "    writing-mode: bt-lr; /* IE */\n",
       "    display: block;\n",
       "    margin: auto;\n",
       "    -webkit-appearance: slider-vertical; /* WebKit */\n",
       "    width: 8px;\n",
       "    height: 250px;\n",
       "    padding: 15px;\n",
       "}\n",
       "\n",
       "span.jLMregion {\n",
       "    padding: 1px 4px;\n",
       "    margin: 2px;\n",
       "    display: inline-block;\n",
       "    font-family: sans-serif;\n",
       "    border: 1px solid black;\n",
       "}\n",
       "\n",
       "span.jLMnum, td.jLMnum {\n",
       "    font-family: serif;\n",
       "    font-size: 1.2em;\n",
       "}\n",
       "\n",
       "div.jLMdescription {\n",
       "    margin: 1em 3em;\n",
       "    font-style: italic;\n",
       "}</style>\n",
       "<script type=\"text/javascript\">\n",
       " var fontawesome_css = document.getElementById(\"fontawesome-css\");\n",
       " if (fontawesome_css === null) {\n",
       "    var l = document.createElement(\"link\");\n",
       "    l.setAttribute(\"rel\", \"stylesheet\");\n",
       "    l.setAttribute(\"type\", \"text/css\");\n",
       "    l.setAttribute(\"href\", \"https://netdna.bootstrapcdn.com/font-awesome/3.2.1/css/font-awesome.css\");\n",
       "    l.setAttribute(\"id\", \"fontawesome-css\");\n",
       "    $(\"head\").append(l);\n",
       "}\n",
       "</script>"
      ],
      "text/plain": [
       "<IPython.core.display.HTML object>"
      ]
     },
     "metadata": {},
     "output_type": "display_data"
    },
    {
     "ename": "ModuleNotFoundError",
     "evalue": "No module named 'jLM.CME'",
     "output_type": "error",
     "traceback": [
      "\u001b[0;31m---------------------------------------------------------------------------\u001b[0m",
      "\u001b[0;31mModuleNotFoundError\u001b[0m                       Traceback (most recent call last)",
      "\u001b[0;32m/tmp/ipykernel_1992564/3701014902.py\u001b[0m in \u001b[0;36m<module>\u001b[0;34m\u001b[0m\n\u001b[1;32m      5\u001b[0m \u001b[0;34m\u001b[0m\u001b[0m\n\u001b[1;32m      6\u001b[0m \u001b[0;31m# Import jLM Libraries\u001b[0m\u001b[0;34m\u001b[0m\u001b[0;34m\u001b[0m\u001b[0;34m\u001b[0m\u001b[0m\n\u001b[0;32m----> 7\u001b[0;31m \u001b[0;32mimport\u001b[0m \u001b[0mjLM\u001b[0m\u001b[0;34m.\u001b[0m\u001b[0mCME\u001b[0m \u001b[0;32mas\u001b[0m \u001b[0mCME\u001b[0m\u001b[0;34m\u001b[0m\u001b[0;34m\u001b[0m\u001b[0m\n\u001b[0m\u001b[1;32m      8\u001b[0m \u001b[0;32mimport\u001b[0m \u001b[0mjLM\u001b[0m\u001b[0;34m.\u001b[0m\u001b[0munits\u001b[0m \u001b[0;32mas\u001b[0m \u001b[0munits\u001b[0m\u001b[0;34m\u001b[0m\u001b[0;34m\u001b[0m\u001b[0m\n\u001b[1;32m      9\u001b[0m \u001b[0;32mimport\u001b[0m \u001b[0mjLM\u001b[0m\u001b[0;34m.\u001b[0m\u001b[0mCMEPostProcessing\u001b[0m \u001b[0;32mas\u001b[0m \u001b[0mPostProcessing\u001b[0m\u001b[0;34m\u001b[0m\u001b[0;34m\u001b[0m\u001b[0m\n",
      "\u001b[0;31mModuleNotFoundError\u001b[0m: No module named 'jLM.CME'"
     ]
    }
   ],
   "source": [
    "# Import Standard Python Libraries\n",
    "import os\n",
    "import numpy as np\n",
    "import matplotlib.pyplot as plt\n",
    "\n",
    "# Import jLM Libraries\n",
    "import jLM.CME as CME\n",
    "import jLM.units as units\n",
    "import jLM.CMEPostProcessing as PostProcessing\n",
    "\n",
    "# Enable plotting inline in the Jupyter notebook\n",
    "%matplotlib inline"
   ]
  },
  {
   "cell_type": "code",
   "execution_count": 2,
   "metadata": {},
   "outputs": [],
   "source": [
    "# Import Standard Python Libraries\n",
    "import os\n",
    "import numpy as np\n",
    "import matplotlib.pyplot as plt\n",
    "\n",
    "# Import pyLM Libraries\n",
    "from pyLM import *\n",
    "from pyLM.units import *\n",
    "from pySTDLM import *\n",
    "from pySTDLM.PostProcessing import *\n",
    "\n",
    "# Enable plotting inline in the Jupyter notebook\n",
    "%matplotlib inline"
   ]
  },
  {
   "cell_type": "code",
   "execution_count": 3,
   "metadata": {},
   "outputs": [],
   "source": [
    "# Constants\n",
    "V  = 1.0e-15       # L, general volume of E Coli\n",
    "NA = 6.022e23      # molecules/mole\n",
    "\n",
    "fold = 1 # multiply the rate constant by fold\n",
    "kf_ODE = 1.07e6 *fold # /M/s\n",
    "kr_ODE = 0.351 *fold # /s\n",
    "\n",
    "kf = kf_ODE/(NA*V) # convert from 1.07e5 /M/s to /counts/s\n",
    "kr = kr_ODE         # /s"
   ]
  },
  {
   "cell_type": "markdown",
   "metadata": {},
   "source": [
    "## Define a CME Simulation\n",
    "\n",
    "We begin by creating a [CMESimulation](https://forxhunter.github.io/LM2.5_doc/_autosummary/jLM.CME.html#jLM.CME.CMESimulation) Python object that we call `sim`. This object will include the definition of the whole stochastic simulation."
   ]
  },
  {
   "cell_type": "code",
   "execution_count": 4,
   "metadata": {
    "ExecuteTime": {
     "end_time": "2016-06-21T14:49:16.123858",
     "start_time": "2016-06-21T14:49:16.121101"
    }
   },
   "outputs": [],
   "source": [
    "# Create our CME simulation object\n",
    "sim = CME.CMESimulation(name='Bimolecule Reaction')"
   ]
  },
  {
   "cell_type": "markdown",
   "metadata": {},
   "source": [
    "Next we define the chemical species with simulation. First. we specify the names of the chemical species.  Then we register these species to the simulation using [`defineSpecies()`](https://luthey-schulten.chemistry.illinois.edu/software/LM2.4/_autosummary/pyLM.CME.html#module-pyLM.CME) function, which can be called multiple times and will add any new names to the list of species.\n"
   ]
  },
  {
   "cell_type": "code",
   "execution_count": 5,
   "metadata": {
    "ExecuteTime": {
     "end_time": "2016-06-21T14:49:16.713967",
     "start_time": "2016-06-21T14:49:16.710003"
    }
   },
   "outputs": [],
   "source": [
    "# Define our chemical species\n",
    "species = ['A', 'B', 'C']\n",
    "sim.defineSpecies(species)"
   ]
  },
  {
   "cell_type": "markdown",
   "metadata": {},
   "source": [
    "Here we add reactions to the simulation. We use the [`addReaction()`](https://luthey-schulten.chemistry.illinois.edu/software/LM2.4/_autosummary/pyLM.CME.html#module-pyLM.CME) function that is a member of the `CMESimulation` object. We add a bimolecular association reaction and a unimolecular dissociation reaction. When more than one reactant is involved, the list of reactant names should be passed as a tuple as can be seen in the reactant of the association reaction. \n",
    "\n",
    "The rates in this command must be in units of molecules and seconds, for instance units of `/molecule/sec` for the association reaction. One need to convert the macroscopic values in units of concentrations to of molecules as shown in the **Introduction**.\n"
   ]
  },
  {
   "cell_type": "code",
   "execution_count": 6,
   "metadata": {
    "ExecuteTime": {
     "end_time": "2016-06-21T14:49:17.327328",
     "start_time": "2016-06-21T14:49:17.322506"
    }
   },
   "outputs": [],
   "source": [
    "# Add reactions to the simulation\n",
    "sim.addReaction(reactant=('A','B'), product='C', rate=kf)\n",
    "sim.addReaction(reactant='C', product=('A','B'), rate=kr)"
   ]
  },
  {
   "cell_type": "markdown",
   "metadata": {},
   "source": [
    "Next, we add the initial particle counts to the simulation using the [`addParticles()`](https://luthey-schulten.chemistry.illinois.edu/software/LM2.4/_autosummary/pyLM.CME.html#module-pyLM.CME) function."
   ]
  },
  {
   "cell_type": "code",
   "execution_count": 7,
   "metadata": {
    "ExecuteTime": {
     "end_time": "2016-06-21T14:49:17.870818",
     "start_time": "2016-06-21T14:49:17.867387"
    },
    "code_folding": []
   },
   "outputs": [],
   "source": [
    "# Set our initial species counts\n",
    "sim.addParticles(species='A', count=50)\n",
    "sim.addParticles(species='B', count=50)\n",
    "sim.addParticles(species='C', count=0)"
   ]
  },
  {
   "cell_type": "markdown",
   "metadata": {},
   "source": [
    "Finally, we define the simulation execution parameters. We have the simulation run for 30 seconds of real time saving results every 30 microseconds for a total of 1 million times. <br/>\n",
    "\n",
    "Then we name the simulation output file and save the simulation definition to it."
   ]
  },
  {
   "cell_type": "code",
   "execution_count": 8,
   "metadata": {
    "ExecuteTime": {
     "end_time": "2016-06-21T14:49:18.668891",
     "start_time": "2016-06-21T14:49:18.615165"
    }
   },
   "outputs": [],
   "source": [
    "# Define simulation parameters: run for 30 seconds, saving data every 30 ms\n",
    "tstart =  0.0   # s\n",
    "tend   = 30.0   # s\n",
    "sim.setWriteInterval(units.microsecond(30))\n",
    "sim.setSimulationTime(tend)\n",
    "filename = \"./T1.2-bimol.lm\"\n",
    "os.system(\"rm -rf %s\"%(filename))\n",
    "sim.save(filename)"
   ]
  },
  {
   "cell_type": "code",
   "execution_count": 9,
   "metadata": {
    "ExecuteTime": {
     "end_time": "2016-06-21T14:49:19.804396",
     "start_time": "2016-06-21T14:49:19.793333"
    }
   },
   "outputs": [
    {
     "data": {
      "text/html": [
       "<h1> CME Simulation: Bimolecule Reaction</h1><h2> Simulation Parameters </h2>writeInterval: 2.9999999999999997e-05</br>maxTime: 30.0</br><h2> Species </h2><table><tr><td style=\"text-align:left\"><b>Specie</b></td><td style=\"text-align:center\"><b>Particle ID</b></td><td style=\"text-align:center\"><b>Initial Count</b></td></tr><tr><td style=\"text-align:left\">A</td><td style=\"text-align:center\">1</td><td style=\"text-align:center\">50</td></tr><tr><td style=\"text-align:left\">B</td><td style=\"text-align:center\">2</td><td style=\"text-align:center\">50</td></tr><tr><td style=\"text-align:left\">C</td><td style=\"text-align:center\">3</td><td style=\"text-align:center\">0</td></tr></table><h2> Reaction Model </h2><table><tr><td style=\"text-align:left\"><b>Reaction</b></td><td style=\"text-align:center\"><b>Rate</b></td><td style=\"text-align:center\"><b>Units</b></td></tr><tr><td style=\"text-align:left\">A + B ⟶ C</td><td style=\"text-align:center\">0.001776818332779807</td><td style=\"text-align:center\">molecule⁻¹sec⁻¹</td></tr><tr><td style=\"text-align:left\">C ⟶ A + B</td><td style=\"text-align:center\">0.351</td><td style=\"text-align:center\">s⁻¹</td></tr></table>"
      ],
      "text/plain": [
       "<pyLM.CME.CMESimulation at 0x74a5ff0815f8>"
      ]
     },
     "execution_count": 9,
     "metadata": {},
     "output_type": "execute_result"
    }
   ],
   "source": [
    "# Print simulation parameters to the notebook for checking before final sim.run\n",
    "sim"
   ]
  },
  {
   "cell_type": "markdown",
   "metadata": {},
   "source": [
    "## Run Simulation with Different Replicates Number\n",
    "\n",
    "Next we run the simulation. To do this, we specify which file has the problem specification (as saved two cells up). \n",
    "\n",
    "Lattice Microbes supports several different solvers for CME simulations; here we use the most common algorithm called the Gillespie's algorithm (aka the Stochastic Simulation Algorithm). You can learn more from Gillespie's [review paper](https://www.annualreviews.org/content/journals/10.1146/annurev.physchem.58.032806.104637) and [wikipedia page](https://en.wikipedia.org/wiki/Gillespie_algorithm).\n",
    "\n",
    "Because the CME represents a stochastic process, each instance of a simulation will have a slightly different trajectory.  Generally, we run many \"replicate\" simulations with the same or nearly the same starting conditions and then compute aggregate statistics over all of them."
   ]
  },
  {
   "cell_type": "code",
   "execution_count": 10,
   "metadata": {
    "ExecuteTime": {
     "end_time": "2016-06-21T14:49:22.633723",
     "start_time": "2016-06-21T14:49:22.203407"
    },
    "scrolled": true
   },
   "outputs": [
    {
     "name": "stderr",
     "output_type": "stream",
     "text": [
      "  0%|          | 0/10 [00:00<?, ?it/s]"
     ]
    },
    {
     "name": "stdout",
     "output_type": "stream",
     "text": [
      "2025-07-07 15:23:09) Info: Using 56 processor(s) and 1 CUDA device(s) per process.\n",
      "2025-07-07 15:23:09) Info: Assigning 1.00 processor(s) and 1.00 CUDA device(s) per replicate.\n",
      "2025-07-07 15:23:09) Info: Data output thread running.\n",
      "2025-07-07 15:23:10) Info: Seeding xorwow rng with top word 1 and bottom word 992956481\n",
      "2025-07-07 15:23:10) Info: Data output thread finished.\n",
      "2025-07-07 15:23:10) Info: Simulation file closed.\n"
     ]
    },
    {
     "name": "stderr",
     "output_type": "stream",
     "text": [
      " 10%|#         | 1/10 [00:00<00:02,  3.92it/s]"
     ]
    },
    {
     "name": "stdout",
     "output_type": "stream",
     "text": [
      "2025-07-07 15:23:10) Info: Using 56 processor(s) and 1 CUDA device(s) per process.\n",
      "2025-07-07 15:23:10) Info: Assigning 1.00 processor(s) and 1.00 CUDA device(s) per replicate.\n",
      "2025-07-07 15:23:10) Info: Data output thread running.\n",
      "2025-07-07 15:23:10) Info: Seeding xorwow rng with top word 2 and bottom word 155155937\n",
      "2025-07-07 15:23:10) Info: Data output thread finished.\n",
      "2025-07-07 15:23:10) Info: Simulation file closed.\n"
     ]
    },
    {
     "name": "stderr",
     "output_type": "stream",
     "text": [
      " 20%|##        | 2/10 [00:00<00:01,  5.33it/s]"
     ]
    },
    {
     "name": "stdout",
     "output_type": "stream",
     "text": [
      "2025-07-07 15:23:10) Info: Using 56 processor(s) and 1 CUDA device(s) per process.\n",
      "2025-07-07 15:23:10) Info: Assigning 1.00 processor(s) and 1.00 CUDA device(s) per replicate.\n",
      "2025-07-07 15:23:10) Info: Data output thread running.\n",
      "2025-07-07 15:23:10) Info: Seeding xorwow rng with top word 3 and bottom word 295698489\n",
      "2025-07-07 15:23:10) Info: Data output thread finished.\n",
      "2025-07-07 15:23:10) Info: Simulation file closed.\n"
     ]
    },
    {
     "name": "stderr",
     "output_type": "stream",
     "text": [
      " 30%|###       | 3/10 [00:00<00:01,  5.99it/s]"
     ]
    },
    {
     "name": "stdout",
     "output_type": "stream",
     "text": [
      "2025-07-07 15:23:10) Info: Using 56 processor(s) and 1 CUDA device(s) per process.\n",
      "2025-07-07 15:23:10) Info: Assigning 1.00 processor(s) and 1.00 CUDA device(s) per replicate.\n",
      "2025-07-07 15:23:10) Info: Data output thread running.\n",
      "2025-07-07 15:23:10) Info: Seeding xorwow rng with top word 4 and bottom word 436985192\n",
      "2025-07-07 15:23:10) Info: Data output thread finished.\n",
      "2025-07-07 15:23:10) Info: Simulation file closed.\n"
     ]
    },
    {
     "name": "stderr",
     "output_type": "stream",
     "text": [
      " 40%|####      | 4/10 [00:00<00:00,  6.28it/s]"
     ]
    },
    {
     "name": "stdout",
     "output_type": "stream",
     "text": [
      "2025-07-07 15:23:10) Info: Using 56 processor(s) and 1 CUDA device(s) per process.\n",
      "2025-07-07 15:23:10) Info: Assigning 1.00 processor(s) and 1.00 CUDA device(s) per replicate.\n",
      "2025-07-07 15:23:10) Info: Data output thread running.\n",
      "2025-07-07 15:23:10) Info: Seeding xorwow rng with top word 5 and bottom word 584831623\n",
      "2025-07-07 15:23:10) Info: Data output thread finished.\n",
      "2025-07-07 15:23:10) Info: Simulation file closed.\n"
     ]
    },
    {
     "name": "stderr",
     "output_type": "stream",
     "text": [
      " 50%|#####     | 5/10 [00:00<00:00,  6.43it/s]"
     ]
    },
    {
     "name": "stdout",
     "output_type": "stream",
     "text": [
      "2025-07-07 15:23:10) Info: Using 56 processor(s) and 1 CUDA device(s) per process.\n",
      "2025-07-07 15:23:10) Info: Assigning 1.00 processor(s) and 1.00 CUDA device(s) per replicate.\n",
      "2025-07-07 15:23:10) Info: Data output thread running.\n",
      "2025-07-07 15:23:10) Info: Seeding xorwow rng with top word 6 and bottom word 734867879\n",
      "2025-07-07 15:23:10) Info: Data output thread finished.\n",
      "2025-07-07 15:23:10) Info: Simulation file closed.\n"
     ]
    },
    {
     "name": "stderr",
     "output_type": "stream",
     "text": [
      " 60%|######    | 6/10 [00:00<00:00,  6.71it/s]"
     ]
    },
    {
     "name": "stdout",
     "output_type": "stream",
     "text": [
      "2025-07-07 15:23:10) Info: Using 56 processor(s) and 1 CUDA device(s) per process.\n",
      "2025-07-07 15:23:10) Info: Assigning 1.00 processor(s) and 1.00 CUDA device(s) per replicate.\n",
      "2025-07-07 15:23:10) Info: Data output thread running.\n",
      "2025-07-07 15:23:10) Info: Seeding xorwow rng with top word 7 and bottom word 869376554\n",
      "2025-07-07 15:23:10) Info: Data output thread finished.\n",
      "2025-07-07 15:23:10) Info: Simulation file closed.\n"
     ]
    },
    {
     "name": "stderr",
     "output_type": "stream",
     "text": [
      " 70%|#######   | 7/10 [00:01<00:00,  6.80it/s]"
     ]
    },
    {
     "name": "stdout",
     "output_type": "stream",
     "text": [
      "2025-07-07 15:23:11) Info: Using 56 processor(s) and 1 CUDA device(s) per process.\n",
      "2025-07-07 15:23:11) Info: Assigning 1.00 processor(s) and 1.00 CUDA device(s) per replicate.\n",
      "2025-07-07 15:23:11) Info: Data output thread running.\n",
      "2025-07-07 15:23:11) Info: Seeding xorwow rng with top word 8 and bottom word 12437093\n",
      "2025-07-07 15:23:11) Info: Data output thread finished.\n",
      "2025-07-07 15:23:11) Info: Simulation file closed.\n"
     ]
    },
    {
     "name": "stderr",
     "output_type": "stream",
     "text": [
      " 80%|########  | 8/10 [00:01<00:00,  6.85it/s]"
     ]
    },
    {
     "name": "stdout",
     "output_type": "stream",
     "text": [
      "2025-07-07 15:23:11) Info: Using 56 processor(s) and 1 CUDA device(s) per process.\n",
      "2025-07-07 15:23:11) Info: Assigning 1.00 processor(s) and 1.00 CUDA device(s) per replicate.\n",
      "2025-07-07 15:23:11) Info: Data output thread running.\n",
      "2025-07-07 15:23:11) Info: Seeding xorwow rng with top word 9 and bottom word 157005537\n",
      "2025-07-07 15:23:11) Info: Data output thread finished.\n",
      "2025-07-07 15:23:11) Info: Simulation file closed.\n"
     ]
    },
    {
     "name": "stderr",
     "output_type": "stream",
     "text": [
      " 90%|######### | 9/10 [00:01<00:00,  6.93it/s]"
     ]
    },
    {
     "name": "stdout",
     "output_type": "stream",
     "text": [
      "2025-07-07 15:23:11) Info: Using 56 processor(s) and 1 CUDA device(s) per process.\n",
      "2025-07-07 15:23:11) Info: Assigning 1.00 processor(s) and 1.00 CUDA device(s) per replicate.\n",
      "2025-07-07 15:23:11) Info: Data output thread running.\n",
      "2025-07-07 15:23:11) Info: Seeding xorwow rng with top word 10 and bottom word 296870616\n",
      "2025-07-07 15:23:11) Info: Data output thread finished.\n",
      "2025-07-07 15:23:11) Info: Simulation file closed.\n"
     ]
    },
    {
     "name": "stderr",
     "output_type": "stream",
     "text": [
      "100%|##########| 10/10 [00:01<00:00,  6.49it/s]\n"
     ]
    }
   ],
   "source": [
    "# Run reps replicates using the Direct Gillespie solver\n",
    "reps = 10\n",
    "\n",
    "sim.run(filename=filename, method=\"lm::cme::GillespieDSolver\", replicates=reps)"
   ]
  },
  {
   "cell_type": "markdown",
   "metadata": {},
   "source": [
    "## Post-Process Analysis\n",
    "\n",
    "### We first want to show you that jLM has its post-processing library, [`jLM.CMEPostProcessing`](https://forxhunter.github.io/LM2.5_doc/_autosummary/jLM.CMEPostProcessing.html#module-jLM.CMEPostProcessing).\n",
    "\n",
    "Post-processing generally begins by getting a handle to the file. This is accomplished by passing the filename to the function [`openLMFile()`](https://forxhunter.github.io/LM2.5_doc/_autosummary/jLM.CMEPostProcessing.html#jLM.CMEPostProcessing.openLMFile). This function does some error checking to make sure the file is generated by LM. <br/>\n",
    "\n",
    "The function [`plotTrace`](https://forxhunter.github.io/LM2.5_doc/_autosummary/jLM.CMEPostProcessing.html#jLM.CMEPostProcessing.plotTrace) will plot a list of species from the specified simulation replicate.\n",
    "\n",
    "Finally, we close the LM File. It is very important that if you open an LM file with the function `openLMFile` that it be closed at the end of your post-processing with [`closeLMFile`](https://forxhunter.github.io/LM2.5_doc/_autosummary/jLM.CMEPostProcessing.html#jLM.CMEPostProcessing.closeLMFile). The function takes the filehandle that is returned by `openLMFile` as an argument. Also, not that once this function is called, any function that takes the filehandle as an argument will fail to work as the handle is now stale.  This is a common mistake and if you get crashing, check that you haven't prematurely closed the file.  This function is usually called last in a post-processing script.\n",
    "\n"
   ]
  },
  {
   "cell_type": "markdown",
   "metadata": {},
   "source": [
    "Plot the traces of one replicate `rep` to see the fluctuation."
   ]
  },
  {
   "cell_type": "code",
   "execution_count": 11,
   "metadata": {
    "ExecuteTime": {
     "end_time": "2016-06-21T14:25:04.842572",
     "start_time": "2016-06-21T14:25:03.639584"
    },
    "scrolled": true
   },
   "outputs": [
    {
     "data": {
      "image/png": "[encoded data removed]",
      "text/plain": [
       "<Figure size 640x480 with 1 Axes>"
      ]
     },
     "metadata": {},
     "output_type": "display_data"
    }
   ],
   "source": [
    "fieHandle = PostProcessing.openLMFile(filename)\n",
    "rep = 5\n",
    "PostProcessing.plotTrace(fieHandle, species=['A','C'], replicate=rep)\n",
    "PostProcessing.closeLMFile(fieHandle)"
   ]
  },
  {
   "cell_type": "markdown",
   "metadata": {},
   "source": [
    "Plot the population average and variance of species A and C among the replicates."
   ]
  },
  {
   "cell_type": "code",
   "execution_count": null,
   "metadata": {},
   "outputs": [],
   "source": [
    "fileHandle = PostProcessing.openLMFile(filename)\n",
    "PostProcessing.plotAvgVar(fileHandle, species=['A','C'])\n",
    "PostProcessing.closeLMFile(fileHandle)"
   ]
  },
  {
   "cell_type": "markdown",
   "metadata": {},
   "source": [
    "However, the standard post-processing library has its limitations. \n",
    "1. First and foremost, it can only read in LM files generated during the simulation while in Whole Cell model, we are using CSV files to store all trajectories. \n",
    "2. Second, the built-in ploting functions can only plot line plot while we want more various plotting methods, including histogram, heatmap, etc. \n",
    "3. Third, these functions are generally slower than the normal Matplotlib functions."
   ]
  },
  {
   "cell_type": "markdown",
   "metadata": {},
   "source": [
    "### We will show a **more general method** to handle the trajectories from CME. \n",
    "\n",
    "We will read in the LM file to a 3D numpy array with dimensions (time, species, replicates) using h5py library. Then we can plot whatever we want by slicing this 3D array."
   ]
  },
  {
   "cell_type": "code",
   "execution_count": 12,
   "metadata": {},
   "outputs": [],
   "source": [
    "# Import Custom Analysis and Plotting Modules\n",
    "import sys\n",
    "sys.path.append('../analyze_scripts')\n",
    "import custom_plot as plot"
   ]
  },
  {
   "cell_type": "markdown",
   "metadata": {},
   "source": [
    "Serialize LM file into a 3D numpy array"
   ]
  },
  {
   "cell_type": "code",
   "execution_count": 13,
   "metadata": {},
   "outputs": [
    {
     "name": "stdout",
     "output_type": "stream",
     "text": [
      "The size of the 3D trajectories is (1000001, 3, 10) with dimensions time, species, and replicates.\n"
     ]
    }
   ],
   "source": [
    "fileHandle = PostProcessing.openLMFile(filename) # Create h5py file handle\n",
    "timestep = PostProcessing.getTimesteps(fileHandle) # use PostProcessing to get the timesteps of the simulation\n",
    "\n",
    "traces = np.zeros((len(timestep), len(sim.particleMap), reps)) # Initiate 3D array\n",
    "\n",
    "# go to plot python script for more details\n",
    "traces = plot.get_sim_data(traces, reps, filename) # Get 3D array\n",
    "\n",
    "print('The size of the 3D trajectories is {0} with dimensions time, species, and replicates.'.format(np.shape(traces)))"
   ]
  },
  {
   "cell_type": "markdown",
   "metadata": {},
   "source": [
    "Go to `fig_dir` to see the plots"
   ]
  },
  {
   "cell_type": "code",
   "execution_count": 14,
   "metadata": {},
   "outputs": [],
   "source": [
    "# Create folder to store plotted figures\n",
    "fig_dir = './plots_bimolecule/'\n",
    "\n",
    "if not os.path.exists(fig_dir):\n",
    "    os.mkdir(fig_dir)"
   ]
  },
  {
   "cell_type": "markdown",
   "metadata": {},
   "source": [
    "Plot the traces of three species A, B, and C in one single replicate"
   ]
  },
  {
   "cell_type": "code",
   "execution_count": 15,
   "metadata": {},
   "outputs": [
    {
     "data": {
      "image/png": "[encoded data removed]",
      "text/plain": [
       "<Figure size 700x700 with 1 Axes>"
      ]
     },
     "metadata": {},
     "output_type": "display_data"
    }
   ],
   "source": [
    "fig_name = 'bimolecule_CME_traces_rep{0}_{1}foldrates'.format(rep, fold)\n",
    "fig_size = [7, 7] # Length by Height in inches\n",
    "time = timestep\n",
    "data_list=[traces[:,0:1,rep-1], traces[:,1:2,rep-1], traces[:,2:3,rep-1]]\n",
    "legends = ['A','B','C']\n",
    "colors = ['red', 'blue', 'green']\n",
    "xlabel='Time [s]'\n",
    "ylabel='Count'\n",
    "title=f'CME for Replicate {rep}'\n",
    "percentile = [0,100]\n",
    "\n",
    "plot.plot_time_ranges(fig_dir, fig_name, fig_size,\n",
    "               time, data_list, legends, colors, xlabel, ylabel, title,\n",
    "               percentile, plot_avg=True, plot_range=False, xlimit=[tstart, tend],\n",
    "               title_set=True, fonts_sizes=[21, 21, 24, 18],\n",
    "               extension='.png', tick_setting=[12, 4.5, 15, 'out'], line_widths = [3,4.5],\n",
    "               legend_pos='best')"
   ]
  },
  {
   "cell_type": "markdown",
   "metadata": {},
   "source": [
    "Plot the average and full span of species 'A'"
   ]
  },
  {
   "cell_type": "code",
   "execution_count": null,
   "metadata": {},
   "outputs": [],
   "source": [
    "specie = 'A'\n",
    "fig_name = 'bimolecule_CME_{0}_{1}replicates_{2}foldrates'.format(specie, reps, fold)\n",
    "fig_size = [7, 7] # Length by Height in inches\n",
    "time = timestep\n",
    "data_list=[traces[:,0,:]]\n",
    "legends = ['A']\n",
    "colors = ['red']\n",
    "xlabel='Time [s]'\n",
    "ylabel='Count'\n",
    "title=f'CME of Specie {specie} in {reps} Replicates'\n",
    "percentile = [0,100]\n",
    "\n",
    "plot.plot_time_ranges(fig_dir, fig_name, fig_size,\n",
    "               time, data_list, legends, colors, xlabel, ylabel, title,\n",
    "               percentile, plot_avg=True, plot_range=True, xlimit=[tstart, tend],\n",
    "               title_set=True, fonts_sizes=[21, 21, 24, 18],\n",
    "               extension='.png', tick_setting=[12.0, 4.5, 15, 'out'], line_widths = [3,4.5],\n",
    "               legend_pos='best')"
   ]
  },
  {
   "cell_type": "markdown",
   "metadata": {},
   "source": [
    "Increase `reps` from 10 to 100 to get a better estimate of the mean and variance"
   ]
  }
 ],
 "metadata": {
  "kernelspec": {
   "display_name": "Python 3 (ipykernel)",
   "language": "python",
   "name": "python3"
  },
  "language_info": {
   "codemirror_mode": {
    "name": "ipython",
    "version": 3
   },
   "file_extension": ".py",
   "mimetype": "text/x-python",
   "name": "python",
   "nbconvert_exporter": "python",
   "pygments_lexer": "ipython3",
   "version": "3.7.3"
  },
  "toc": {
   "toc_cell": false,
   "toc_number_sections": true,
   "toc_threshold": 6,
   "toc_window_display": false
  }
 },
 "nbformat": 4,
 "nbformat_minor": 1
}
